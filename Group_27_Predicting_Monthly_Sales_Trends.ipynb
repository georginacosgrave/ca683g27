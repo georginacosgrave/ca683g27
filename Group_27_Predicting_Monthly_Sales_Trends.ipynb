{
  "nbformat": 4,
  "nbformat_minor": 0,
  "metadata": {
    "colab": {
      "name": "Group 27 - Predicting Monthly Sales Trends",
      "provenance": [],
      "collapsed_sections": [],
      "include_colab_link": true
    },
    "kernelspec": {
      "name": "python3",
      "display_name": "Python 3"
    },
    "accelerator": "GPU"
  },
  "cells": [
    {
      "cell_type": "markdown",
      "metadata": {
        "id": "view-in-github",
        "colab_type": "text"
      },
      "source": [
        "<a href=\"https://colab.research.google.com/github/georginacosgrave/ca683g27/blob/main/Group_27_Predicting_Monthly_Sales_Trends.ipynb\" target=\"_parent\"><img src=\"https://colab.research.google.com/assets/colab-badge.svg\" alt=\"Open In Colab\"/></a>"
      ]
    },
    {
      "cell_type": "markdown",
      "metadata": {
        "id": "VAkcUcF5cmA1"
      },
      "source": [
        "#GROUP 27 - PREDICTING SALES \n",
        "In this notebook we include the code for our CA683 project, leveraging the data from Kaggle on Russian games store 1c for Jan 2013 - Oct 2015: https://www.kaggle.com/c/competitive-data-science-predict-future-sales/overview\n",
        "\n",
        "Using this data we will split the into training (Jan 2013 - Sep 2015) and testing data (Oct 2015) to see if we can successfully predict which items will be sold in each shop in our test data."
      ]
    },
    {
      "cell_type": "markdown",
      "metadata": {
        "id": "134xAs6PEeZS"
      },
      "source": [
        "#DATA UNDERSTANDING\n",
        "In this block we will:\n",
        "* import the sales, shops, items and categories data \n",
        "* do some exploratory data analysis to understand outliers, correlation, trends and missing data \n",
        "\n"
      ]
    },
    {
      "cell_type": "markdown",
      "metadata": {
        "id": "RwsESLfTdH0d"
      },
      "source": [
        ""
      ]
    },
    {
      "cell_type": "code",
      "metadata": {
        "colab": {
          "base_uri": "https://localhost:8080/"
        },
        "id": "uZ9eBZm2EZiY",
        "outputId": "589981ea-46f3-4d21-fce3-e261310f04fa"
      },
      "source": [
        "!pip install -U -q PyDrive\n",
        "from pydrive.auth import GoogleAuth\n",
        "from pydrive.drive import GoogleDrive\n",
        "from google.colab import auth\n",
        "from oauth2client.client import GoogleCredentials\n",
        "# Authenticate and create the PyDrive client.\n",
        "auth.authenticate_user()\n",
        "gauth = GoogleAuth()\n",
        "gauth.credentials = GoogleCredentials.get_application_default()\n",
        "drive = GoogleDrive(gauth)\n",
        "import pandas as pd\n",
        "import numpy as np\n",
        "import matplotlib.pyplot as plt\n",
        "from sklearn import preprocessing\n",
        "import seaborn as sns\n",
        "from statsmodels.compat import lzip\n",
        "import statsmodels.formula.api as sm\n",
        "import statsmodels.stats.stattools as st\n",
        "import statsmodels.stats.api as sms\n",
        "from sklearn.model_selection import train_test_split\n",
        "from sklearn.linear_model import LogisticRegression\n",
        "from sklearn.linear_model import LinearRegression\n",
        "from sklearn.metrics import r2_score\n",
        "import statsmodels.api as smd\n",
        "from google.colab import drive\n",
        "drive.mount('/content/drive')"
      ],
      "execution_count": null,
      "outputs": [
        {
          "output_type": "stream",
          "text": [
            "/usr/local/lib/python3.7/dist-packages/statsmodels/tools/_testing.py:19: FutureWarning: pandas.util.testing is deprecated. Use the functions in the public API at pandas.testing instead.\n",
            "  import pandas.util.testing as tm\n"
          ],
          "name": "stderr"
        },
        {
          "output_type": "stream",
          "text": [
            "Drive already mounted at /content/drive; to attempt to forcibly remount, call drive.mount(\"/content/drive\", force_remount=True).\n"
          ],
          "name": "stdout"
        }
      ]
    },
    {
      "cell_type": "code",
      "metadata": {
        "colab": {
          "base_uri": "https://localhost:8080/",
          "height": 35
        },
        "id": "ti3Sk6NUhRZc",
        "outputId": "f116b77f-9cb4-4bff-df48-0969e57a65c4"
      },
      "source": [
        "import os\n",
        "path = os.getcwd()\n",
        "path"
      ],
      "execution_count": null,
      "outputs": [
        {
          "output_type": "execute_result",
          "data": {
            "application/vnd.google.colaboratory.intrinsic+json": {
              "type": "string"
            },
            "text/plain": [
              "'/content'"
            ]
          },
          "metadata": {
            "tags": []
          },
          "execution_count": 3
        }
      ]
    },
    {
      "cell_type": "code",
      "metadata": {
        "id": "DfEXPS0qE9Ss",
        "colab": {
          "base_uri": "https://localhost:8080/"
        },
        "outputId": "a46b3e44-2148-4604-c90e-3c355196dbb7"
      },
      "source": [
        "sales = pd.read_csv('drive/MyDrive/CA683 Group Project/sales_train.csv')\n",
        "items = pd.read_csv('drive/MyDrive/CA683 Group Project/items_en.csv')\n",
        "shops = pd.read_csv('drive/MyDrive/CA683 Group Project/shops_en.csv')\n",
        "categories = pd.read_csv('drive/MyDrive/CA683 Group Project/item_categories_en.csv')\n",
        "print(sales.shape)\n",
        "print(shops.shape)\n",
        "print(items.shape)\n",
        "print(categories.shape)"
      ],
      "execution_count": null,
      "outputs": [
        {
          "output_type": "stream",
          "text": [
            "(2935849, 6)\n",
            "(60, 2)\n",
            "(22170, 3)\n",
            "(84, 2)\n"
          ],
          "name": "stdout"
        }
      ]
    },
    {
      "cell_type": "code",
      "metadata": {
        "id": "sRZb1t4jeSV_",
        "colab": {
          "base_uri": "https://localhost:8080/"
        },
        "outputId": "2eb1b565-86b5-446f-ff20-b2e441c6d4ca"
      },
      "source": [
        "sales.item_cnt_day.describe()\n",
        "sales.dtypes"
      ],
      "execution_count": null,
      "outputs": [
        {
          "output_type": "execute_result",
          "data": {
            "text/plain": [
              "date               object\n",
              "date_block_num      int64\n",
              "shop_id             int64\n",
              "item_id             int64\n",
              "item_price        float64\n",
              "item_cnt_day      float64\n",
              "dtype: object"
            ]
          },
          "metadata": {
            "tags": []
          },
          "execution_count": 5
        }
      ]
    },
    {
      "cell_type": "code",
      "metadata": {
        "id": "PdjmBaYCeyUy",
        "colab": {
          "base_uri": "https://localhost:8080/"
        },
        "outputId": "3839e91a-1583-4b92-c127-67916e8b9acc"
      },
      "source": [
        "sales.date = pd.to_datetime(sales.date)\n",
        "sales.dtypes"
      ],
      "execution_count": null,
      "outputs": [
        {
          "output_type": "execute_result",
          "data": {
            "text/plain": [
              "date              datetime64[ns]\n",
              "date_block_num             int64\n",
              "shop_id                    int64\n",
              "item_id                    int64\n",
              "item_price               float64\n",
              "item_cnt_day             float64\n",
              "dtype: object"
            ]
          },
          "metadata": {
            "tags": []
          },
          "execution_count": 6
        }
      ]
    },
    {
      "cell_type": "code",
      "metadata": {
        "colab": {
          "base_uri": "https://localhost:8080/",
          "height": 370
        },
        "id": "YfvtVRpDe_Vx",
        "outputId": "8d7d1f29-35f4-41a3-b20f-84f84cdf49d0"
      },
      "source": [
        "sales.groupby('date_block_num')['item_cnt_day'].sum().plot.bar(figsize=(10, 5))\n",
        "plt.title (\"Monthly Breakdown of Items Sold\")\n",
        "plt.ylabel(\"Number of items sold\")"
      ],
      "execution_count": null,
      "outputs": [
        {
          "output_type": "execute_result",
          "data": {
            "text/plain": [
              "Text(0, 0.5, 'Number of items sold')"
            ]
          },
          "metadata": {
            "tags": []
          },
          "execution_count": 7
        },
        {
          "output_type": "display_data",
          "data": {
            "image/png": "[encoded data removed]",
            "text/plain": [
              "<Figure size 720x360 with 1 Axes>"
            ]
          },
          "metadata": {
            "tags": [],
            "needs_background": "light"
          }
        }
      ]
    },
    {
      "cell_type": "code",
      "metadata": {
        "colab": {
          "base_uri": "https://localhost:8080/"
        },
        "id": "x4RsPdzxfo5T",
        "outputId": "e13223f4-af27-448f-9af4-9df842c859c1"
      },
      "source": [
        "duplicate_rows_sales = sales[sales.duplicated()]\n",
        "print(\"number of duplicate sales rows: \", duplicate_rows_sales.shape)"
      ],
      "execution_count": null,
      "outputs": [
        {
          "output_type": "stream",
          "text": [
            "number of duplicate sales rows:  (6, 6)\n"
          ],
          "name": "stdout"
        }
      ]
    },
    {
      "cell_type": "code",
      "metadata": {
        "colab": {
          "base_uri": "https://localhost:8080/",
          "height": 235
        },
        "id": "ajBMsIpGl81P",
        "outputId": "11aa38cf-287f-43a1-eeec-896969f35e8e"
      },
      "source": [
        "duplicate_rows_sales"
      ],
      "execution_count": null,
      "outputs": [
        {
          "output_type": "execute_result",
          "data": {
            "text/html": [
              "<div>\n",
              "<style scoped>\n",
              "    .dataframe tbody tr th:only-of-type {\n",
              "        vertical-align: middle;\n",
              "    }\n",
              "\n",
              "    .dataframe tbody tr th {\n",
              "        vertical-align: top;\n",
              "    }\n",
              "\n",
              "    .dataframe thead th {\n",
              "        text-align: right;\n",
              "    }\n",
              "</style>\n",
              "<table border=\"1\" class=\"dataframe\">\n",
              "  <thead>\n",
              "    <tr style=\"text-align: right;\">\n",
              "      <th></th>\n",
              "      <th>date</th>\n",
              "      <th>date_block_num</th>\n",
              "      <th>shop_id</th>\n",
              "      <th>item_id</th>\n",
              "      <th>item_price</th>\n",
              "      <th>item_cnt_day</th>\n",
              "    </tr>\n",
              "  </thead>\n",
              "  <tbody>\n",
              "    <tr>\n",
              "      <th>76962</th>\n",
              "      <td>2013-05-01</td>\n",
              "      <td>0</td>\n",
              "      <td>54</td>\n",
              "      <td>20130</td>\n",
              "      <td>149.0</td>\n",
              "      <td>1.0</td>\n",
              "    </tr>\n",
              "    <tr>\n",
              "      <th>1435367</th>\n",
              "      <td>2014-02-23</td>\n",
              "      <td>13</td>\n",
              "      <td>50</td>\n",
              "      <td>3423</td>\n",
              "      <td>999.0</td>\n",
              "      <td>1.0</td>\n",
              "    </tr>\n",
              "    <tr>\n",
              "      <th>1496766</th>\n",
              "      <td>2014-03-23</td>\n",
              "      <td>14</td>\n",
              "      <td>21</td>\n",
              "      <td>3423</td>\n",
              "      <td>999.0</td>\n",
              "      <td>1.0</td>\n",
              "    </tr>\n",
              "    <tr>\n",
              "      <th>1671873</th>\n",
              "      <td>2014-01-05</td>\n",
              "      <td>16</td>\n",
              "      <td>50</td>\n",
              "      <td>3423</td>\n",
              "      <td>999.0</td>\n",
              "      <td>1.0</td>\n",
              "    </tr>\n",
              "    <tr>\n",
              "      <th>1866340</th>\n",
              "      <td>2014-12-07</td>\n",
              "      <td>18</td>\n",
              "      <td>25</td>\n",
              "      <td>3423</td>\n",
              "      <td>999.0</td>\n",
              "      <td>1.0</td>\n",
              "    </tr>\n",
              "    <tr>\n",
              "      <th>2198566</th>\n",
              "      <td>2014-12-31</td>\n",
              "      <td>23</td>\n",
              "      <td>42</td>\n",
              "      <td>21619</td>\n",
              "      <td>499.0</td>\n",
              "      <td>1.0</td>\n",
              "    </tr>\n",
              "  </tbody>\n",
              "</table>\n",
              "</div>"
            ],
            "text/plain": [
              "              date  date_block_num  shop_id  item_id  item_price  item_cnt_day\n",
              "76962   2013-05-01               0       54    20130       149.0           1.0\n",
              "1435367 2014-02-23              13       50     3423       999.0           1.0\n",
              "1496766 2014-03-23              14       21     3423       999.0           1.0\n",
              "1671873 2014-01-05              16       50     3423       999.0           1.0\n",
              "1866340 2014-12-07              18       25     3423       999.0           1.0\n",
              "2198566 2014-12-31              23       42    21619       499.0           1.0"
            ]
          },
          "metadata": {
            "tags": []
          },
          "execution_count": 9
        }
      ]
    },
    {
      "cell_type": "code",
      "metadata": {
        "colab": {
          "base_uri": "https://localhost:8080/"
        },
        "id": "rWBuYvIjh1YU",
        "outputId": "dcf4f2e7-889a-46b4-c10e-fc91bc82f725"
      },
      "source": [
        "print(sales.isnull().sum())"
      ],
      "execution_count": null,
      "outputs": [
        {
          "output_type": "stream",
          "text": [
            "date              0\n",
            "date_block_num    0\n",
            "shop_id           0\n",
            "item_id           0\n",
            "item_price        0\n",
            "item_cnt_day      0\n",
            "dtype: int64\n"
          ],
          "name": "stdout"
        }
      ]
    },
    {
      "cell_type": "code",
      "metadata": {
        "colab": {
          "base_uri": "https://localhost:8080/"
        },
        "id": "MXV2IAS_nNwk",
        "outputId": "e54f7ed1-c0c0-42fa-c9ce-51450f2cec61"
      },
      "source": [
        "sales[\"item_id\"].value_counts()"
      ],
      "execution_count": null,
      "outputs": [
        {
          "output_type": "execute_result",
          "data": {
            "text/plain": [
              "20949    31340\n",
              "5822      9408\n",
              "17717     9067\n",
              "2808      7479\n",
              "4181      6853\n",
              "         ...  \n",
              "593          1\n",
              "13866        1\n",
              "16574        1\n",
              "20668        1\n",
              "0            1\n",
              "Name: item_id, Length: 21807, dtype: int64"
            ]
          },
          "metadata": {
            "tags": []
          },
          "execution_count": 11
        }
      ]
    },
    {
      "cell_type": "code",
      "metadata": {
        "colab": {
          "base_uri": "https://localhost:8080/",
          "height": 297
        },
        "id": "YvxB0B6kh_zL",
        "outputId": "35ad0fa6-ae00-4fca-b2fa-913b1d51b8c8"
      },
      "source": [
        "sns.boxplot(x=sales ['item_cnt_day'])"
      ],
      "execution_count": null,
      "outputs": [
        {
          "output_type": "execute_result",
          "data": {
            "text/plain": [
              "<matplotlib.axes._subplots.AxesSubplot at 0x7f88f5cdd250>"
            ]
          },
          "metadata": {
            "tags": []
          },
          "execution_count": 12
        },
        {
          "output_type": "display_data",
          "data": {
            "image/png": "[encoded data removed]",
            "text/plain": [
              "<Figure size 432x288 with 1 Axes>"
            ]
          },
          "metadata": {
            "tags": [],
            "needs_background": "light"
          }
        }
      ]
    },
    {
      "cell_type": "code",
      "metadata": {
        "colab": {
          "base_uri": "https://localhost:8080/",
          "height": 111
        },
        "id": "8jtXQYu0k5Nw",
        "outputId": "7194dd22-0602-4643-d17d-5d66c9d3bf05"
      },
      "source": [
        "sales.loc[sales['item_cnt_day']>800]"
      ],
      "execution_count": null,
      "outputs": [
        {
          "output_type": "execute_result",
          "data": {
            "text/html": [
              "<div>\n",
              "<style scoped>\n",
              "    .dataframe tbody tr th:only-of-type {\n",
              "        vertical-align: middle;\n",
              "    }\n",
              "\n",
              "    .dataframe tbody tr th {\n",
              "        vertical-align: top;\n",
              "    }\n",
              "\n",
              "    .dataframe thead th {\n",
              "        text-align: right;\n",
              "    }\n",
              "</style>\n",
              "<table border=\"1\" class=\"dataframe\">\n",
              "  <thead>\n",
              "    <tr style=\"text-align: right;\">\n",
              "      <th></th>\n",
              "      <th>date</th>\n",
              "      <th>date_block_num</th>\n",
              "      <th>shop_id</th>\n",
              "      <th>item_id</th>\n",
              "      <th>item_price</th>\n",
              "      <th>item_cnt_day</th>\n",
              "    </tr>\n",
              "  </thead>\n",
              "  <tbody>\n",
              "    <tr>\n",
              "      <th>2326930</th>\n",
              "      <td>2015-01-15</td>\n",
              "      <td>24</td>\n",
              "      <td>12</td>\n",
              "      <td>20949</td>\n",
              "      <td>4.000000</td>\n",
              "      <td>1000.0</td>\n",
              "    </tr>\n",
              "    <tr>\n",
              "      <th>2909818</th>\n",
              "      <td>2015-10-28</td>\n",
              "      <td>33</td>\n",
              "      <td>12</td>\n",
              "      <td>11373</td>\n",
              "      <td>0.908714</td>\n",
              "      <td>2169.0</td>\n",
              "    </tr>\n",
              "  </tbody>\n",
              "</table>\n",
              "</div>"
            ],
            "text/plain": [
              "              date  date_block_num  shop_id  item_id  item_price  item_cnt_day\n",
              "2326930 2015-01-15              24       12    20949    4.000000        1000.0\n",
              "2909818 2015-10-28              33       12    11373    0.908714        2169.0"
            ]
          },
          "metadata": {
            "tags": []
          },
          "execution_count": 13
        }
      ]
    },
    {
      "cell_type": "code",
      "metadata": {
        "colab": {
          "base_uri": "https://localhost:8080/",
          "height": 80
        },
        "id": "yEUsLQ1MlAqc",
        "outputId": "8c9c2520-17e9-47a5-8865-a87513ec0c90"
      },
      "source": [
        "items.loc[items['item_id']==20949]"
      ],
      "execution_count": null,
      "outputs": [
        {
          "output_type": "execute_result",
          "data": {
            "text/html": [
              "<div>\n",
              "<style scoped>\n",
              "    .dataframe tbody tr th:only-of-type {\n",
              "        vertical-align: middle;\n",
              "    }\n",
              "\n",
              "    .dataframe tbody tr th {\n",
              "        vertical-align: top;\n",
              "    }\n",
              "\n",
              "    .dataframe thead th {\n",
              "        text-align: right;\n",
              "    }\n",
              "</style>\n",
              "<table border=\"1\" class=\"dataframe\">\n",
              "  <thead>\n",
              "    <tr style=\"text-align: right;\">\n",
              "      <th></th>\n",
              "      <th>item_name</th>\n",
              "      <th>item_id</th>\n",
              "      <th>item_category_id</th>\n",
              "    </tr>\n",
              "  </thead>\n",
              "  <tbody>\n",
              "    <tr>\n",
              "      <th>20949</th>\n",
              "      <td>Corporate package white shirt 1C Interest (34 ...</td>\n",
              "      <td>20949</td>\n",
              "      <td>71</td>\n",
              "    </tr>\n",
              "  </tbody>\n",
              "</table>\n",
              "</div>"
            ],
            "text/plain": [
              "                                               item_name  ...  item_category_id\n",
              "20949  Corporate package white shirt 1C Interest (34 ...  ...                71\n",
              "\n",
              "[1 rows x 3 columns]"
            ]
          },
          "metadata": {
            "tags": []
          },
          "execution_count": 14
        }
      ]
    },
    {
      "cell_type": "code",
      "metadata": {
        "colab": {
          "base_uri": "https://localhost:8080/",
          "height": 80
        },
        "id": "PjVlmFIelHyT",
        "outputId": "4f7e836e-2b5d-430c-b0f6-e4807268e856"
      },
      "source": [
        "items.loc[items['item_id']==11373]"
      ],
      "execution_count": null,
      "outputs": [
        {
          "output_type": "execute_result",
          "data": {
            "text/html": [
              "<div>\n",
              "<style scoped>\n",
              "    .dataframe tbody tr th:only-of-type {\n",
              "        vertical-align: middle;\n",
              "    }\n",
              "\n",
              "    .dataframe tbody tr th {\n",
              "        vertical-align: top;\n",
              "    }\n",
              "\n",
              "    .dataframe thead th {\n",
              "        text-align: right;\n",
              "    }\n",
              "</style>\n",
              "<table border=\"1\" class=\"dataframe\">\n",
              "  <thead>\n",
              "    <tr style=\"text-align: right;\">\n",
              "      <th></th>\n",
              "      <th>item_name</th>\n",
              "      <th>item_id</th>\n",
              "      <th>item_category_id</th>\n",
              "    </tr>\n",
              "  </thead>\n",
              "  <tbody>\n",
              "    <tr>\n",
              "      <th>11373</th>\n",
              "      <td>Delivery to the delivery point (Boxberry)</td>\n",
              "      <td>11373</td>\n",
              "      <td>9</td>\n",
              "    </tr>\n",
              "  </tbody>\n",
              "</table>\n",
              "</div>"
            ],
            "text/plain": [
              "                                       item_name  item_id  item_category_id\n",
              "11373  Delivery to the delivery point (Boxberry)    11373                 9"
            ]
          },
          "metadata": {
            "tags": []
          },
          "execution_count": 15
        }
      ]
    },
    {
      "cell_type": "code",
      "metadata": {
        "colab": {
          "base_uri": "https://localhost:8080/",
          "height": 80
        },
        "id": "4f00zfARllL9",
        "outputId": "8ae1ba8b-177a-4c02-9951-c73b085d7367"
      },
      "source": [
        "shops.loc[shops['shop_id']==12]"
      ],
      "execution_count": null,
      "outputs": [
        {
          "output_type": "execute_result",
          "data": {
            "text/html": [
              "<div>\n",
              "<style scoped>\n",
              "    .dataframe tbody tr th:only-of-type {\n",
              "        vertical-align: middle;\n",
              "    }\n",
              "\n",
              "    .dataframe tbody tr th {\n",
              "        vertical-align: top;\n",
              "    }\n",
              "\n",
              "    .dataframe thead th {\n",
              "        text-align: right;\n",
              "    }\n",
              "</style>\n",
              "<table border=\"1\" class=\"dataframe\">\n",
              "  <thead>\n",
              "    <tr style=\"text-align: right;\">\n",
              "      <th></th>\n",
              "      <th>shop_name</th>\n",
              "      <th>shop_id</th>\n",
              "    </tr>\n",
              "  </thead>\n",
              "  <tbody>\n",
              "    <tr>\n",
              "      <th>12</th>\n",
              "      <td>Shop Online Emergencies</td>\n",
              "      <td>12</td>\n",
              "    </tr>\n",
              "  </tbody>\n",
              "</table>\n",
              "</div>"
            ],
            "text/plain": [
              "                  shop_name  shop_id\n",
              "12  Shop Online Emergencies       12"
            ]
          },
          "metadata": {
            "tags": []
          },
          "execution_count": 16
        }
      ]
    },
    {
      "cell_type": "code",
      "metadata": {
        "colab": {
          "base_uri": "https://localhost:8080/",
          "height": 297
        },
        "id": "mc4rRyuTiFvv",
        "outputId": "11478c90-3127-4e29-cfc4-e5a3ac28f337"
      },
      "source": [
        "sns.boxplot(x=sales ['item_price'])"
      ],
      "execution_count": null,
      "outputs": [
        {
          "output_type": "execute_result",
          "data": {
            "text/plain": [
              "<matplotlib.axes._subplots.AxesSubplot at 0x7f88f534ab10>"
            ]
          },
          "metadata": {
            "tags": []
          },
          "execution_count": 17
        },
        {
          "output_type": "display_data",
          "data": {
            "image/png": "[encoded data removed]",
            "text/plain": [
              "<Figure size 432x288 with 1 Axes>"
            ]
          },
          "metadata": {
            "tags": [],
            "needs_background": "light"
          }
        }
      ]
    },
    {
      "cell_type": "code",
      "metadata": {
        "colab": {
          "base_uri": "https://localhost:8080/",
          "height": 80
        },
        "id": "bqooR565i_yk",
        "outputId": "ac2d3202-3df8-4015-9922-a7504dd2d69f"
      },
      "source": [
        "sales.loc[sales['item_price']>100000]"
      ],
      "execution_count": null,
      "outputs": [
        {
          "output_type": "execute_result",
          "data": {
            "text/html": [
              "<div>\n",
              "<style scoped>\n",
              "    .dataframe tbody tr th:only-of-type {\n",
              "        vertical-align: middle;\n",
              "    }\n",
              "\n",
              "    .dataframe tbody tr th {\n",
              "        vertical-align: top;\n",
              "    }\n",
              "\n",
              "    .dataframe thead th {\n",
              "        text-align: right;\n",
              "    }\n",
              "</style>\n",
              "<table border=\"1\" class=\"dataframe\">\n",
              "  <thead>\n",
              "    <tr style=\"text-align: right;\">\n",
              "      <th></th>\n",
              "      <th>date</th>\n",
              "      <th>date_block_num</th>\n",
              "      <th>shop_id</th>\n",
              "      <th>item_id</th>\n",
              "      <th>item_price</th>\n",
              "      <th>item_cnt_day</th>\n",
              "    </tr>\n",
              "  </thead>\n",
              "  <tbody>\n",
              "    <tr>\n",
              "      <th>1163158</th>\n",
              "      <td>2013-12-13</td>\n",
              "      <td>11</td>\n",
              "      <td>12</td>\n",
              "      <td>6066</td>\n",
              "      <td>307980.0</td>\n",
              "      <td>1.0</td>\n",
              "    </tr>\n",
              "  </tbody>\n",
              "</table>\n",
              "</div>"
            ],
            "text/plain": [
              "              date  date_block_num  shop_id  item_id  item_price  item_cnt_day\n",
              "1163158 2013-12-13              11       12     6066    307980.0           1.0"
            ]
          },
          "metadata": {
            "tags": []
          },
          "execution_count": 18
        }
      ]
    },
    {
      "cell_type": "code",
      "metadata": {
        "colab": {
          "base_uri": "https://localhost:8080/",
          "height": 80
        },
        "id": "nnAxgX6fjRvX",
        "outputId": "2ce14984-7d91-46c9-ffdf-4e85c49c130e"
      },
      "source": [
        "items.loc[items['item_id']==6066]"
      ],
      "execution_count": null,
      "outputs": [
        {
          "output_type": "execute_result",
          "data": {
            "text/html": [
              "<div>\n",
              "<style scoped>\n",
              "    .dataframe tbody tr th:only-of-type {\n",
              "        vertical-align: middle;\n",
              "    }\n",
              "\n",
              "    .dataframe tbody tr th {\n",
              "        vertical-align: top;\n",
              "    }\n",
              "\n",
              "    .dataframe thead th {\n",
              "        text-align: right;\n",
              "    }\n",
              "</style>\n",
              "<table border=\"1\" class=\"dataframe\">\n",
              "  <thead>\n",
              "    <tr style=\"text-align: right;\">\n",
              "      <th></th>\n",
              "      <th>item_name</th>\n",
              "      <th>item_id</th>\n",
              "      <th>item_category_id</th>\n",
              "    </tr>\n",
              "  </thead>\n",
              "  <tbody>\n",
              "    <tr>\n",
              "      <th>6066</th>\n",
              "      <td>Radmin 3  - 522 лиц.</td>\n",
              "      <td>6066</td>\n",
              "      <td>75</td>\n",
              "    </tr>\n",
              "  </tbody>\n",
              "</table>\n",
              "</div>"
            ],
            "text/plain": [
              "                 item_name  item_id  item_category_id\n",
              "6066  Radmin 3  - 522 лиц.     6066                75"
            ]
          },
          "metadata": {
            "tags": []
          },
          "execution_count": 19
        }
      ]
    },
    {
      "cell_type": "code",
      "metadata": {
        "colab": {
          "base_uri": "https://localhost:8080/",
          "height": 80
        },
        "id": "U8IkbhKOvO-e",
        "outputId": "d11e6f56-5fee-4b56-c8b9-ceac9cc00aa3"
      },
      "source": [
        "sales.loc[sales['item_price']<0]"
      ],
      "execution_count": null,
      "outputs": [
        {
          "output_type": "execute_result",
          "data": {
            "text/html": [
              "<div>\n",
              "<style scoped>\n",
              "    .dataframe tbody tr th:only-of-type {\n",
              "        vertical-align: middle;\n",
              "    }\n",
              "\n",
              "    .dataframe tbody tr th {\n",
              "        vertical-align: top;\n",
              "    }\n",
              "\n",
              "    .dataframe thead th {\n",
              "        text-align: right;\n",
              "    }\n",
              "</style>\n",
              "<table border=\"1\" class=\"dataframe\">\n",
              "  <thead>\n",
              "    <tr style=\"text-align: right;\">\n",
              "      <th></th>\n",
              "      <th>date</th>\n",
              "      <th>date_block_num</th>\n",
              "      <th>shop_id</th>\n",
              "      <th>item_id</th>\n",
              "      <th>item_price</th>\n",
              "      <th>item_cnt_day</th>\n",
              "    </tr>\n",
              "  </thead>\n",
              "  <tbody>\n",
              "    <tr>\n",
              "      <th>484683</th>\n",
              "      <td>2013-05-15</td>\n",
              "      <td>4</td>\n",
              "      <td>32</td>\n",
              "      <td>2973</td>\n",
              "      <td>-1.0</td>\n",
              "      <td>1.0</td>\n",
              "    </tr>\n",
              "  </tbody>\n",
              "</table>\n",
              "</div>"
            ],
            "text/plain": [
              "             date  date_block_num  shop_id  item_id  item_price  item_cnt_day\n",
              "484683 2013-05-15               4       32     2973        -1.0           1.0"
            ]
          },
          "metadata": {
            "tags": []
          },
          "execution_count": 20
        }
      ]
    },
    {
      "cell_type": "code",
      "metadata": {
        "colab": {
          "base_uri": "https://localhost:8080/",
          "height": 80
        },
        "id": "lNLCOOsOvS3M",
        "outputId": "3a1a9b0f-eeec-4b38-82a0-964234f1cb59"
      },
      "source": [
        "items.loc[items['item_id']==2973]"
      ],
      "execution_count": null,
      "outputs": [
        {
          "output_type": "execute_result",
          "data": {
            "text/html": [
              "<div>\n",
              "<style scoped>\n",
              "    .dataframe tbody tr th:only-of-type {\n",
              "        vertical-align: middle;\n",
              "    }\n",
              "\n",
              "    .dataframe tbody tr th {\n",
              "        vertical-align: top;\n",
              "    }\n",
              "\n",
              "    .dataframe thead th {\n",
              "        text-align: right;\n",
              "    }\n",
              "</style>\n",
              "<table border=\"1\" class=\"dataframe\">\n",
              "  <thead>\n",
              "    <tr style=\"text-align: right;\">\n",
              "      <th></th>\n",
              "      <th>item_name</th>\n",
              "      <th>item_id</th>\n",
              "      <th>item_category_id</th>\n",
              "    </tr>\n",
              "  </thead>\n",
              "  <tbody>\n",
              "    <tr>\n",
              "      <th>2973</th>\n",
              "      <td>DmC Devil May Cry [PS3, Russian subtitles]</td>\n",
              "      <td>2973</td>\n",
              "      <td>19</td>\n",
              "    </tr>\n",
              "  </tbody>\n",
              "</table>\n",
              "</div>"
            ],
            "text/plain": [
              "                                       item_name  item_id  item_category_id\n",
              "2973  DmC Devil May Cry [PS3, Russian subtitles]     2973                19"
            ]
          },
          "metadata": {
            "tags": []
          },
          "execution_count": 21
        }
      ]
    },
    {
      "cell_type": "code",
      "metadata": {
        "colab": {
          "base_uri": "https://localhost:8080/",
          "height": 342
        },
        "id": "4JdsJ_57iX2D",
        "outputId": "d9ce5193-3c68-4162-e8b0-925979f54347"
      },
      "source": [
        "plt.figure(figsize=(10,5))\n",
        "c= sales.corr()\n",
        "sns.heatmap(c,cmap=\"BrBG\",annot=True)"
      ],
      "execution_count": null,
      "outputs": [
        {
          "output_type": "execute_result",
          "data": {
            "text/plain": [
              "<matplotlib.axes._subplots.AxesSubplot at 0x7f88f59ce7d0>"
            ]
          },
          "metadata": {
            "tags": []
          },
          "execution_count": 22
        },
        {
          "output_type": "display_data",
          "data": {
            "image/png": "[encoded data removed]",
            "text/plain": [
              "<Figure size 720x360 with 2 Axes>"
            ]
          },
          "metadata": {
            "tags": [],
            "needs_background": "light"
          }
        }
      ]
    },
    {
      "cell_type": "code",
      "metadata": {
        "colab": {
          "base_uri": "https://localhost:8080/",
          "height": 353
        },
        "id": "tWNN7rVxif08",
        "outputId": "1b7bfaae-31c6-4042-ae1f-637735faed51"
      },
      "source": [
        "sales.shop_id.value_counts().nlargest(60).plot(kind='bar', figsize=(15,5))\n",
        "plt.title(\"Items sold per shop\")\n",
        "plt.ylabel('items_cnt_day')\n",
        "plt.xlabel('shop_id');"
      ],
      "execution_count": null,
      "outputs": [
        {
          "output_type": "display_data",
          "data": {
            "image/png": "[encoded data removed]",
            "text/plain": [
              "<Figure size 1080x360 with 1 Axes>"
            ]
          },
          "metadata": {
            "tags": [],
            "needs_background": "light"
          }
        }
      ]
    },
    {
      "cell_type": "markdown",
      "metadata": {
        "id": "GPD2a8pCi1E3"
      },
      "source": [
        "Data Understanding Summary Findings\n",
        "* There are no missing values in the data\n",
        "* There are significant outliers in the data, two relate to item_price which appear to be an anomalies, 1 exceptionally high price and another item sold below 0. The others are count of items sold, one is delivery charges on a certain day and another is a tshirt sale both from shop 12 the online store"
      ]
    },
    {
      "cell_type": "markdown",
      "metadata": {
        "id": "fWXPJNfpcA_A"
      },
      "source": [
        "#DATA PREPARATION \n",
        "In this block we will:\n",
        "* create new fields in categories file to group categories, and in shops to show the shop city \n",
        "* merge the sales, shops, item and category data\n",
        "* split out Oct 2015 as our testing data, and rename Jan 13-Sep 15 as training\n",
        "* perform a few extra steps of analysis on the combined data\n",
        "* create new fields on the combined dataset for weekday, revenue\n",
        "* decide what to do with our outliers\n",
        "* ceate aggregated sales data for each shop \n",
        "* create lag features (did not use these)\n",
        "\n",
        "\n",
        "\n"
      ]
    },
    {
      "cell_type": "code",
      "metadata": {
        "id": "goAPNeaNs0Lp",
        "colab": {
          "base_uri": "https://localhost:8080/"
        },
        "outputId": "a978d552-8123-41d5-c45e-8b20fb179ca9"
      },
      "source": [
        "!pip install category_encoders"
      ],
      "execution_count": null,
      "outputs": [
        {
          "output_type": "stream",
          "text": [
            "Requirement already satisfied: category_encoders in /usr/local/lib/python3.7/dist-packages (2.2.2)\n",
            "Requirement already satisfied: numpy>=1.14.0 in /usr/local/lib/python3.7/dist-packages (from category_encoders) (1.19.5)\n",
            "Requirement already satisfied: statsmodels>=0.9.0 in /usr/local/lib/python3.7/dist-packages (from category_encoders) (0.10.2)\n",
            "Requirement already satisfied: patsy>=0.5.1 in /usr/local/lib/python3.7/dist-packages (from category_encoders) (0.5.1)\n",
            "Requirement already satisfied: scipy>=1.0.0 in /usr/local/lib/python3.7/dist-packages (from category_encoders) (1.4.1)\n",
            "Requirement already satisfied: pandas>=0.21.1 in /usr/local/lib/python3.7/dist-packages (from category_encoders) (1.1.5)\n",
            "Requirement already satisfied: scikit-learn>=0.20.0 in /usr/local/lib/python3.7/dist-packages (from category_encoders) (0.22.2.post1)\n",
            "Requirement already satisfied: six in /usr/local/lib/python3.7/dist-packages (from patsy>=0.5.1->category_encoders) (1.15.0)\n",
            "Requirement already satisfied: python-dateutil>=2.7.3 in /usr/local/lib/python3.7/dist-packages (from pandas>=0.21.1->category_encoders) (2.8.1)\n",
            "Requirement already satisfied: pytz>=2017.2 in /usr/local/lib/python3.7/dist-packages (from pandas>=0.21.1->category_encoders) (2018.9)\n",
            "Requirement already satisfied: joblib>=0.11 in /usr/local/lib/python3.7/dist-packages (from scikit-learn>=0.20.0->category_encoders) (1.0.1)\n"
          ],
          "name": "stdout"
        }
      ]
    },
    {
      "cell_type": "code",
      "metadata": {
        "id": "0CkVMQFAs3w0"
      },
      "source": [
        "from itertools import product\n",
        "from collections import Counter\n",
        "from sklearn.cluster import KMeans\n",
        "from sklearn.preprocessing import LabelEncoder\n",
        "le = LabelEncoder()\n",
        "import category_encoders as ce\n",
        "import warnings\n",
        "\n",
        "warnings.filterwarnings(\"ignore\")"
      ],
      "execution_count": null,
      "outputs": []
    },
    {
      "cell_type": "code",
      "metadata": {
        "colab": {
          "base_uri": "https://localhost:8080/",
          "height": 204
        },
        "id": "5g6k5ofUscw0",
        "outputId": "44274276-79e3-466c-d1d8-69fba02b18f2"
      },
      "source": [
        "categories['group']=categories['item_category_name'].str.extract(r'(^[\\w\\s]*)')\n",
        "categories['group'] = categories['group'].str.strip()\n",
        "\n",
        "categories['group_id'] = le.fit_transform(categories.group.values)\n",
        "categories.sample(5)"
      ],
      "execution_count": null,
      "outputs": [
        {
          "output_type": "execute_result",
          "data": {
            "text/html": [
              "<div>\n",
              "<style scoped>\n",
              "    .dataframe tbody tr th:only-of-type {\n",
              "        vertical-align: middle;\n",
              "    }\n",
              "\n",
              "    .dataframe tbody tr th {\n",
              "        vertical-align: top;\n",
              "    }\n",
              "\n",
              "    .dataframe thead th {\n",
              "        text-align: right;\n",
              "    }\n",
              "</style>\n",
              "<table border=\"1\" class=\"dataframe\">\n",
              "  <thead>\n",
              "    <tr style=\"text-align: right;\">\n",
              "      <th></th>\n",
              "      <th>item_category_name</th>\n",
              "      <th>item_category_id</th>\n",
              "      <th>group</th>\n",
              "      <th>group_id</th>\n",
              "    </tr>\n",
              "  </thead>\n",
              "  <tbody>\n",
              "    <tr>\n",
              "      <th>65</th>\n",
              "      <td>Gifts - Games (compact)</td>\n",
              "      <td>65</td>\n",
              "      <td>Gifts</td>\n",
              "      <td>9</td>\n",
              "    </tr>\n",
              "    <tr>\n",
              "      <th>29</th>\n",
              "      <td>Games PC - Collector's Edition</td>\n",
              "      <td>29</td>\n",
              "      <td>Games PC</td>\n",
              "      <td>8</td>\n",
              "    </tr>\n",
              "    <tr>\n",
              "      <th>48</th>\n",
              "      <td>Books - Computer Books</td>\n",
              "      <td>48</td>\n",
              "      <td>Books</td>\n",
              "      <td>1</td>\n",
              "    </tr>\n",
              "    <tr>\n",
              "      <th>59</th>\n",
              "      <td>Music - Music video</td>\n",
              "      <td>59</td>\n",
              "      <td>Music</td>\n",
              "      <td>12</td>\n",
              "    </tr>\n",
              "    <tr>\n",
              "      <th>66</th>\n",
              "      <td>Gifts - Cards, Stickers</td>\n",
              "      <td>66</td>\n",
              "      <td>Gifts</td>\n",
              "      <td>9</td>\n",
              "    </tr>\n",
              "  </tbody>\n",
              "</table>\n",
              "</div>"
            ],
            "text/plain": [
              "                item_category_name  item_category_id     group  group_id\n",
              "65         Gifts - Games (compact)                65     Gifts         9\n",
              "29  Games PC - Collector's Edition                29  Games PC         8\n",
              "48          Books - Computer Books                48     Books         1\n",
              "59             Music - Music video                59     Music        12\n",
              "66         Gifts - Cards, Stickers                66     Gifts         9"
            ]
          },
          "metadata": {
            "tags": []
          },
          "execution_count": 26
        }
      ]
    },
    {
      "cell_type": "code",
      "metadata": {
        "id": "DY4UeuggtPR5"
      },
      "source": [
        "shops['shop_name'] = shops['shop_name'].str.replace('!','').str.lstrip().str.rstrip()\n",
        "shops['city'] = shops['shop_name'].str.split(' ').map(lambda x: x[0])\n",
        "shops['city_code'] = le.fit_transform(shops['city'])\n",
        "shops['shop_id'] = shops['shop_id']"
      ],
      "execution_count": null,
      "outputs": []
    },
    {
      "cell_type": "code",
      "metadata": {
        "colab": {
          "base_uri": "https://localhost:8080/",
          "height": 514
        },
        "id": "wMfUTub1tnP7",
        "outputId": "adca20df-b5c3-45a0-d9c7-5cc3682d7868"
      },
      "source": [
        "shops.head(15)"
      ],
      "execution_count": null,
      "outputs": [
        {
          "output_type": "execute_result",
          "data": {
            "text/html": [
              "<div>\n",
              "<style scoped>\n",
              "    .dataframe tbody tr th:only-of-type {\n",
              "        vertical-align: middle;\n",
              "    }\n",
              "\n",
              "    .dataframe tbody tr th {\n",
              "        vertical-align: top;\n",
              "    }\n",
              "\n",
              "    .dataframe thead th {\n",
              "        text-align: right;\n",
              "    }\n",
              "</style>\n",
              "<table border=\"1\" class=\"dataframe\">\n",
              "  <thead>\n",
              "    <tr style=\"text-align: right;\">\n",
              "      <th></th>\n",
              "      <th>shop_name</th>\n",
              "      <th>shop_id</th>\n",
              "      <th>city</th>\n",
              "      <th>city_code</th>\n",
              "    </tr>\n",
              "  </thead>\n",
              "  <tbody>\n",
              "    <tr>\n",
              "      <th>0</th>\n",
              "      <td>Yakutsk Ordzhonikidze, 56 Franc</td>\n",
              "      <td>0</td>\n",
              "      <td>Yakutsk</td>\n",
              "      <td>28</td>\n",
              "    </tr>\n",
              "    <tr>\n",
              "      <th>1</th>\n",
              "      <td>Yakutsk TC \"Central\" Franc</td>\n",
              "      <td>1</td>\n",
              "      <td>Yakutsk</td>\n",
              "      <td>28</td>\n",
              "    </tr>\n",
              "    <tr>\n",
              "      <th>2</th>\n",
              "      <td>Adygea TC \"Mega\"</td>\n",
              "      <td>2</td>\n",
              "      <td>Adygea</td>\n",
              "      <td>0</td>\n",
              "    </tr>\n",
              "    <tr>\n",
              "      <th>3</th>\n",
              "      <td>Balashikha TRC \"October-Kinomir\"</td>\n",
              "      <td>3</td>\n",
              "      <td>Balashikha</td>\n",
              "      <td>1</td>\n",
              "    </tr>\n",
              "    <tr>\n",
              "      <th>4</th>\n",
              "      <td>Volzhsky mall \"Volga Mall\"</td>\n",
              "      <td>4</td>\n",
              "      <td>Volzhsky</td>\n",
              "      <td>26</td>\n",
              "    </tr>\n",
              "    <tr>\n",
              "      <th>5</th>\n",
              "      <td>Vologda SEC \"Marmalade\"</td>\n",
              "      <td>5</td>\n",
              "      <td>Vologda</td>\n",
              "      <td>25</td>\n",
              "    </tr>\n",
              "    <tr>\n",
              "      <th>6</th>\n",
              "      <td>Voronezh (Plekhanovskaya, 13)</td>\n",
              "      <td>6</td>\n",
              "      <td>Voronezh</td>\n",
              "      <td>27</td>\n",
              "    </tr>\n",
              "    <tr>\n",
              "      <th>7</th>\n",
              "      <td>Voronezh TRC \"Maksimir\"</td>\n",
              "      <td>7</td>\n",
              "      <td>Voronezh</td>\n",
              "      <td>27</td>\n",
              "    </tr>\n",
              "    <tr>\n",
              "      <th>8</th>\n",
              "      <td>Voronezh TRC City-Park \"City\"</td>\n",
              "      <td>8</td>\n",
              "      <td>Voronezh</td>\n",
              "      <td>27</td>\n",
              "    </tr>\n",
              "    <tr>\n",
              "      <th>9</th>\n",
              "      <td>Itinerant trade</td>\n",
              "      <td>9</td>\n",
              "      <td>Itinerant</td>\n",
              "      <td>4</td>\n",
              "    </tr>\n",
              "    <tr>\n",
              "      <th>10</th>\n",
              "      <td>Zhukovsky Street. Chkalov 39m?</td>\n",
              "      <td>10</td>\n",
              "      <td>Zhukovsky</td>\n",
              "      <td>30</td>\n",
              "    </tr>\n",
              "    <tr>\n",
              "      <th>11</th>\n",
              "      <td>Zhukovsky Street. Chkalov 39m²</td>\n",
              "      <td>11</td>\n",
              "      <td>Zhukovsky</td>\n",
              "      <td>30</td>\n",
              "    </tr>\n",
              "    <tr>\n",
              "      <th>12</th>\n",
              "      <td>Shop Online Emergencies</td>\n",
              "      <td>12</td>\n",
              "      <td>Shop</td>\n",
              "      <td>19</td>\n",
              "    </tr>\n",
              "    <tr>\n",
              "      <th>13</th>\n",
              "      <td>Kazan shopping center \"Bahetle\"</td>\n",
              "      <td>13</td>\n",
              "      <td>Kazan</td>\n",
              "      <td>6</td>\n",
              "    </tr>\n",
              "    <tr>\n",
              "      <th>14</th>\n",
              "      <td>Kazan shopping mall of \"Parkhouse\" II of</td>\n",
              "      <td>14</td>\n",
              "      <td>Kazan</td>\n",
              "      <td>6</td>\n",
              "    </tr>\n",
              "  </tbody>\n",
              "</table>\n",
              "</div>"
            ],
            "text/plain": [
              "                                   shop_name  shop_id        city  city_code\n",
              "0            Yakutsk Ordzhonikidze, 56 Franc        0     Yakutsk         28\n",
              "1                 Yakutsk TC \"Central\" Franc        1     Yakutsk         28\n",
              "2                           Adygea TC \"Mega\"        2      Adygea          0\n",
              "3           Balashikha TRC \"October-Kinomir\"        3  Balashikha          1\n",
              "4                 Volzhsky mall \"Volga Mall\"        4    Volzhsky         26\n",
              "5                    Vologda SEC \"Marmalade\"        5     Vologda         25\n",
              "6              Voronezh (Plekhanovskaya, 13)        6    Voronezh         27\n",
              "7                    Voronezh TRC \"Maksimir\"        7    Voronezh         27\n",
              "8              Voronezh TRC City-Park \"City\"        8    Voronezh         27\n",
              "9                            Itinerant trade        9   Itinerant          4\n",
              "10            Zhukovsky Street. Chkalov 39m?       10   Zhukovsky         30\n",
              "11            Zhukovsky Street. Chkalov 39m²       11   Zhukovsky         30\n",
              "12                   Shop Online Emergencies       12        Shop         19\n",
              "13           Kazan shopping center \"Bahetle\"       13       Kazan          6\n",
              "14  Kazan shopping mall of \"Parkhouse\" II of       14       Kazan          6"
            ]
          },
          "metadata": {
            "tags": []
          },
          "execution_count": 28
        }
      ]
    },
    {
      "cell_type": "code",
      "metadata": {
        "id": "gJKhCW4xK166"
      },
      "source": [
        "itemCats = pd.merge(items,categories)\n",
        "shopSales = pd.merge(sales,shops)\n",
        "fullData = pd.merge(shopSales,itemCats)\n",
        "\n"
      ],
      "execution_count": null,
      "outputs": []
    },
    {
      "cell_type": "code",
      "metadata": {
        "colab": {
          "base_uri": "https://localhost:8080/",
          "height": 600
        },
        "id": "H-DYtmrE5EBk",
        "outputId": "79a6f8a5-b2ae-435b-a0ee-930dc53c409e"
      },
      "source": [
        "fullData.head(10)"
      ],
      "execution_count": null,
      "outputs": [
        {
          "output_type": "execute_result",
          "data": {
            "text/html": [
              "<div>\n",
              "<style scoped>\n",
              "    .dataframe tbody tr th:only-of-type {\n",
              "        vertical-align: middle;\n",
              "    }\n",
              "\n",
              "    .dataframe tbody tr th {\n",
              "        vertical-align: top;\n",
              "    }\n",
              "\n",
              "    .dataframe thead th {\n",
              "        text-align: right;\n",
              "    }\n",
              "</style>\n",
              "<table border=\"1\" class=\"dataframe\">\n",
              "  <thead>\n",
              "    <tr style=\"text-align: right;\">\n",
              "      <th></th>\n",
              "      <th>date</th>\n",
              "      <th>date_block_num</th>\n",
              "      <th>shop_id</th>\n",
              "      <th>item_id</th>\n",
              "      <th>item_price</th>\n",
              "      <th>item_cnt_day</th>\n",
              "      <th>shop_name</th>\n",
              "      <th>city</th>\n",
              "      <th>city_code</th>\n",
              "      <th>item_name</th>\n",
              "      <th>item_category_id</th>\n",
              "      <th>item_category_name</th>\n",
              "      <th>group</th>\n",
              "      <th>group_id</th>\n",
              "    </tr>\n",
              "  </thead>\n",
              "  <tbody>\n",
              "    <tr>\n",
              "      <th>0</th>\n",
              "      <td>2013-02-01</td>\n",
              "      <td>0</td>\n",
              "      <td>59</td>\n",
              "      <td>22154</td>\n",
              "      <td>999.0</td>\n",
              "      <td>1.0</td>\n",
              "      <td>Yaroslavl shopping center \"Altair\"</td>\n",
              "      <td>Yaroslavl</td>\n",
              "      <td>29</td>\n",
              "      <td>Scene 2012 (BD)</td>\n",
              "      <td>37</td>\n",
              "      <td>Movies - Blu-Ray</td>\n",
              "      <td>Movies</td>\n",
              "      <td>11</td>\n",
              "    </tr>\n",
              "    <tr>\n",
              "      <th>1</th>\n",
              "      <td>2013-02-01</td>\n",
              "      <td>0</td>\n",
              "      <td>25</td>\n",
              "      <td>22154</td>\n",
              "      <td>999.0</td>\n",
              "      <td>1.0</td>\n",
              "      <td>Moscow TRC \"Atrium\"</td>\n",
              "      <td>Moscow</td>\n",
              "      <td>11</td>\n",
              "      <td>Scene 2012 (BD)</td>\n",
              "      <td>37</td>\n",
              "      <td>Movies - Blu-Ray</td>\n",
              "      <td>Movies</td>\n",
              "      <td>11</td>\n",
              "    </tr>\n",
              "    <tr>\n",
              "      <th>2</th>\n",
              "      <td>2013-03-01</td>\n",
              "      <td>0</td>\n",
              "      <td>25</td>\n",
              "      <td>22154</td>\n",
              "      <td>999.0</td>\n",
              "      <td>1.0</td>\n",
              "      <td>Moscow TRC \"Atrium\"</td>\n",
              "      <td>Moscow</td>\n",
              "      <td>11</td>\n",
              "      <td>Scene 2012 (BD)</td>\n",
              "      <td>37</td>\n",
              "      <td>Movies - Blu-Ray</td>\n",
              "      <td>Movies</td>\n",
              "      <td>11</td>\n",
              "    </tr>\n",
              "    <tr>\n",
              "      <th>3</th>\n",
              "      <td>2013-01-20</td>\n",
              "      <td>0</td>\n",
              "      <td>25</td>\n",
              "      <td>22154</td>\n",
              "      <td>999.0</td>\n",
              "      <td>1.0</td>\n",
              "      <td>Moscow TRC \"Atrium\"</td>\n",
              "      <td>Moscow</td>\n",
              "      <td>11</td>\n",
              "      <td>Scene 2012 (BD)</td>\n",
              "      <td>37</td>\n",
              "      <td>Movies - Blu-Ray</td>\n",
              "      <td>Movies</td>\n",
              "      <td>11</td>\n",
              "    </tr>\n",
              "    <tr>\n",
              "      <th>4</th>\n",
              "      <td>2013-01-23</td>\n",
              "      <td>0</td>\n",
              "      <td>25</td>\n",
              "      <td>22154</td>\n",
              "      <td>999.0</td>\n",
              "      <td>1.0</td>\n",
              "      <td>Moscow TRC \"Atrium\"</td>\n",
              "      <td>Moscow</td>\n",
              "      <td>11</td>\n",
              "      <td>Scene 2012 (BD)</td>\n",
              "      <td>37</td>\n",
              "      <td>Movies - Blu-Ray</td>\n",
              "      <td>Movies</td>\n",
              "      <td>11</td>\n",
              "    </tr>\n",
              "    <tr>\n",
              "      <th>5</th>\n",
              "      <td>2013-01-26</td>\n",
              "      <td>0</td>\n",
              "      <td>25</td>\n",
              "      <td>22154</td>\n",
              "      <td>999.0</td>\n",
              "      <td>1.0</td>\n",
              "      <td>Moscow TRC \"Atrium\"</td>\n",
              "      <td>Moscow</td>\n",
              "      <td>11</td>\n",
              "      <td>Scene 2012 (BD)</td>\n",
              "      <td>37</td>\n",
              "      <td>Movies - Blu-Ray</td>\n",
              "      <td>Movies</td>\n",
              "      <td>11</td>\n",
              "    </tr>\n",
              "    <tr>\n",
              "      <th>6</th>\n",
              "      <td>2015-08-27</td>\n",
              "      <td>31</td>\n",
              "      <td>25</td>\n",
              "      <td>22154</td>\n",
              "      <td>299.0</td>\n",
              "      <td>1.0</td>\n",
              "      <td>Moscow TRC \"Atrium\"</td>\n",
              "      <td>Moscow</td>\n",
              "      <td>11</td>\n",
              "      <td>Scene 2012 (BD)</td>\n",
              "      <td>37</td>\n",
              "      <td>Movies - Blu-Ray</td>\n",
              "      <td>Movies</td>\n",
              "      <td>11</td>\n",
              "    </tr>\n",
              "    <tr>\n",
              "      <th>7</th>\n",
              "      <td>2015-02-09</td>\n",
              "      <td>32</td>\n",
              "      <td>25</td>\n",
              "      <td>22154</td>\n",
              "      <td>299.0</td>\n",
              "      <td>1.0</td>\n",
              "      <td>Moscow TRC \"Atrium\"</td>\n",
              "      <td>Moscow</td>\n",
              "      <td>11</td>\n",
              "      <td>Scene 2012 (BD)</td>\n",
              "      <td>37</td>\n",
              "      <td>Movies - Blu-Ray</td>\n",
              "      <td>Movies</td>\n",
              "      <td>11</td>\n",
              "    </tr>\n",
              "    <tr>\n",
              "      <th>8</th>\n",
              "      <td>2013-01-23</td>\n",
              "      <td>0</td>\n",
              "      <td>24</td>\n",
              "      <td>22154</td>\n",
              "      <td>999.0</td>\n",
              "      <td>1.0</td>\n",
              "      <td>Moscow TK \"Budenovsky\" (pav.K7)</td>\n",
              "      <td>Moscow</td>\n",
              "      <td>11</td>\n",
              "      <td>Scene 2012 (BD)</td>\n",
              "      <td>37</td>\n",
              "      <td>Movies - Blu-Ray</td>\n",
              "      <td>Movies</td>\n",
              "      <td>11</td>\n",
              "    </tr>\n",
              "    <tr>\n",
              "      <th>9</th>\n",
              "      <td>2015-10-10</td>\n",
              "      <td>33</td>\n",
              "      <td>24</td>\n",
              "      <td>22154</td>\n",
              "      <td>299.0</td>\n",
              "      <td>1.0</td>\n",
              "      <td>Moscow TK \"Budenovsky\" (pav.K7)</td>\n",
              "      <td>Moscow</td>\n",
              "      <td>11</td>\n",
              "      <td>Scene 2012 (BD)</td>\n",
              "      <td>37</td>\n",
              "      <td>Movies - Blu-Ray</td>\n",
              "      <td>Movies</td>\n",
              "      <td>11</td>\n",
              "    </tr>\n",
              "  </tbody>\n",
              "</table>\n",
              "</div>"
            ],
            "text/plain": [
              "        date  date_block_num  shop_id  ...  item_category_name   group  group_id\n",
              "0 2013-02-01               0       59  ...    Movies - Blu-Ray  Movies        11\n",
              "1 2013-02-01               0       25  ...    Movies - Blu-Ray  Movies        11\n",
              "2 2013-03-01               0       25  ...    Movies - Blu-Ray  Movies        11\n",
              "3 2013-01-20               0       25  ...    Movies - Blu-Ray  Movies        11\n",
              "4 2013-01-23               0       25  ...    Movies - Blu-Ray  Movies        11\n",
              "5 2013-01-26               0       25  ...    Movies - Blu-Ray  Movies        11\n",
              "6 2015-08-27              31       25  ...    Movies - Blu-Ray  Movies        11\n",
              "7 2015-02-09              32       25  ...    Movies - Blu-Ray  Movies        11\n",
              "8 2013-01-23               0       24  ...    Movies - Blu-Ray  Movies        11\n",
              "9 2015-10-10              33       24  ...    Movies - Blu-Ray  Movies        11\n",
              "\n",
              "[10 rows x 14 columns]"
            ]
          },
          "metadata": {
            "tags": []
          },
          "execution_count": 30
        }
      ]
    },
    {
      "cell_type": "code",
      "metadata": {
        "colab": {
          "base_uri": "https://localhost:8080/"
        },
        "id": "U-o0Va0TLnyC",
        "outputId": "58f5080d-c5d0-4325-c90f-753fa9b99a9c"
      },
      "source": [
        "trainData = fullData[(fullData.date_block_num >= 0) & (fullData.date_block_num < 33)]\n",
        "testData = fullData[(fullData.date_block_num == 33)]\n",
        "print(trainData.shape)\n",
        "print(testData.shape)"
      ],
      "execution_count": null,
      "outputs": [
        {
          "output_type": "stream",
          "text": [
            "(2882335, 14)\n",
            "(53514, 14)\n"
          ],
          "name": "stdout"
        }
      ]
    },
    {
      "cell_type": "code",
      "metadata": {
        "id": "TdblFyyw17Gw"
      },
      "source": [
        "trainData['day_of_week'] = trainData['date'].dt.dayofweek"
      ],
      "execution_count": null,
      "outputs": []
    },
    {
      "cell_type": "code",
      "metadata": {
        "id": "gKgiXUAb5k5Y"
      },
      "source": [
        "trainData['weekday_weekend'] = np.where((trainData['day_of_week'] >= 0) & \n",
        "                         (trainData['day_of_week'] <= 4) , 'weekday', 'weekend')"
      ],
      "execution_count": null,
      "outputs": []
    },
    {
      "cell_type": "code",
      "metadata": {
        "colab": {
          "base_uri": "https://localhost:8080/",
          "height": 600
        },
        "id": "cDptWvOiTSkB",
        "outputId": "c49a6726-29fc-4f3c-b7f2-29161ab4cb24"
      },
      "source": [
        "trainData.head(10)"
      ],
      "execution_count": null,
      "outputs": [
        {
          "output_type": "execute_result",
          "data": {
            "text/html": [
              "<div>\n",
              "<style scoped>\n",
              "    .dataframe tbody tr th:only-of-type {\n",
              "        vertical-align: middle;\n",
              "    }\n",
              "\n",
              "    .dataframe tbody tr th {\n",
              "        vertical-align: top;\n",
              "    }\n",
              "\n",
              "    .dataframe thead th {\n",
              "        text-align: right;\n",
              "    }\n",
              "</style>\n",
              "<table border=\"1\" class=\"dataframe\">\n",
              "  <thead>\n",
              "    <tr style=\"text-align: right;\">\n",
              "      <th></th>\n",
              "      <th>date</th>\n",
              "      <th>date_block_num</th>\n",
              "      <th>shop_id</th>\n",
              "      <th>item_id</th>\n",
              "      <th>item_price</th>\n",
              "      <th>item_cnt_day</th>\n",
              "      <th>shop_name</th>\n",
              "      <th>city</th>\n",
              "      <th>city_code</th>\n",
              "      <th>item_name</th>\n",
              "      <th>item_category_id</th>\n",
              "      <th>item_category_name</th>\n",
              "      <th>group</th>\n",
              "      <th>group_id</th>\n",
              "      <th>day_of_week</th>\n",
              "      <th>weekday_weekend</th>\n",
              "    </tr>\n",
              "  </thead>\n",
              "  <tbody>\n",
              "    <tr>\n",
              "      <th>0</th>\n",
              "      <td>2013-02-01</td>\n",
              "      <td>0</td>\n",
              "      <td>59</td>\n",
              "      <td>22154</td>\n",
              "      <td>999.0</td>\n",
              "      <td>1.0</td>\n",
              "      <td>Yaroslavl shopping center \"Altair\"</td>\n",
              "      <td>Yaroslavl</td>\n",
              "      <td>29</td>\n",
              "      <td>Scene 2012 (BD)</td>\n",
              "      <td>37</td>\n",
              "      <td>Movies - Blu-Ray</td>\n",
              "      <td>Movies</td>\n",
              "      <td>11</td>\n",
              "      <td>4</td>\n",
              "      <td>weekday</td>\n",
              "    </tr>\n",
              "    <tr>\n",
              "      <th>1</th>\n",
              "      <td>2013-02-01</td>\n",
              "      <td>0</td>\n",
              "      <td>25</td>\n",
              "      <td>22154</td>\n",
              "      <td>999.0</td>\n",
              "      <td>1.0</td>\n",
              "      <td>Moscow TRC \"Atrium\"</td>\n",
              "      <td>Moscow</td>\n",
              "      <td>11</td>\n",
              "      <td>Scene 2012 (BD)</td>\n",
              "      <td>37</td>\n",
              "      <td>Movies - Blu-Ray</td>\n",
              "      <td>Movies</td>\n",
              "      <td>11</td>\n",
              "      <td>4</td>\n",
              "      <td>weekday</td>\n",
              "    </tr>\n",
              "    <tr>\n",
              "      <th>2</th>\n",
              "      <td>2013-03-01</td>\n",
              "      <td>0</td>\n",
              "      <td>25</td>\n",
              "      <td>22154</td>\n",
              "      <td>999.0</td>\n",
              "      <td>1.0</td>\n",
              "      <td>Moscow TRC \"Atrium\"</td>\n",
              "      <td>Moscow</td>\n",
              "      <td>11</td>\n",
              "      <td>Scene 2012 (BD)</td>\n",
              "      <td>37</td>\n",
              "      <td>Movies - Blu-Ray</td>\n",
              "      <td>Movies</td>\n",
              "      <td>11</td>\n",
              "      <td>4</td>\n",
              "      <td>weekday</td>\n",
              "    </tr>\n",
              "    <tr>\n",
              "      <th>3</th>\n",
              "      <td>2013-01-20</td>\n",
              "      <td>0</td>\n",
              "      <td>25</td>\n",
              "      <td>22154</td>\n",
              "      <td>999.0</td>\n",
              "      <td>1.0</td>\n",
              "      <td>Moscow TRC \"Atrium\"</td>\n",
              "      <td>Moscow</td>\n",
              "      <td>11</td>\n",
              "      <td>Scene 2012 (BD)</td>\n",
              "      <td>37</td>\n",
              "      <td>Movies - Blu-Ray</td>\n",
              "      <td>Movies</td>\n",
              "      <td>11</td>\n",
              "      <td>6</td>\n",
              "      <td>weekend</td>\n",
              "    </tr>\n",
              "    <tr>\n",
              "      <th>4</th>\n",
              "      <td>2013-01-23</td>\n",
              "      <td>0</td>\n",
              "      <td>25</td>\n",
              "      <td>22154</td>\n",
              "      <td>999.0</td>\n",
              "      <td>1.0</td>\n",
              "      <td>Moscow TRC \"Atrium\"</td>\n",
              "      <td>Moscow</td>\n",
              "      <td>11</td>\n",
              "      <td>Scene 2012 (BD)</td>\n",
              "      <td>37</td>\n",
              "      <td>Movies - Blu-Ray</td>\n",
              "      <td>Movies</td>\n",
              "      <td>11</td>\n",
              "      <td>2</td>\n",
              "      <td>weekday</td>\n",
              "    </tr>\n",
              "    <tr>\n",
              "      <th>5</th>\n",
              "      <td>2013-01-26</td>\n",
              "      <td>0</td>\n",
              "      <td>25</td>\n",
              "      <td>22154</td>\n",
              "      <td>999.0</td>\n",
              "      <td>1.0</td>\n",
              "      <td>Moscow TRC \"Atrium\"</td>\n",
              "      <td>Moscow</td>\n",
              "      <td>11</td>\n",
              "      <td>Scene 2012 (BD)</td>\n",
              "      <td>37</td>\n",
              "      <td>Movies - Blu-Ray</td>\n",
              "      <td>Movies</td>\n",
              "      <td>11</td>\n",
              "      <td>5</td>\n",
              "      <td>weekend</td>\n",
              "    </tr>\n",
              "    <tr>\n",
              "      <th>6</th>\n",
              "      <td>2015-08-27</td>\n",
              "      <td>31</td>\n",
              "      <td>25</td>\n",
              "      <td>22154</td>\n",
              "      <td>299.0</td>\n",
              "      <td>1.0</td>\n",
              "      <td>Moscow TRC \"Atrium\"</td>\n",
              "      <td>Moscow</td>\n",
              "      <td>11</td>\n",
              "      <td>Scene 2012 (BD)</td>\n",
              "      <td>37</td>\n",
              "      <td>Movies - Blu-Ray</td>\n",
              "      <td>Movies</td>\n",
              "      <td>11</td>\n",
              "      <td>3</td>\n",
              "      <td>weekday</td>\n",
              "    </tr>\n",
              "    <tr>\n",
              "      <th>7</th>\n",
              "      <td>2015-02-09</td>\n",
              "      <td>32</td>\n",
              "      <td>25</td>\n",
              "      <td>22154</td>\n",
              "      <td>299.0</td>\n",
              "      <td>1.0</td>\n",
              "      <td>Moscow TRC \"Atrium\"</td>\n",
              "      <td>Moscow</td>\n",
              "      <td>11</td>\n",
              "      <td>Scene 2012 (BD)</td>\n",
              "      <td>37</td>\n",
              "      <td>Movies - Blu-Ray</td>\n",
              "      <td>Movies</td>\n",
              "      <td>11</td>\n",
              "      <td>0</td>\n",
              "      <td>weekday</td>\n",
              "    </tr>\n",
              "    <tr>\n",
              "      <th>8</th>\n",
              "      <td>2013-01-23</td>\n",
              "      <td>0</td>\n",
              "      <td>24</td>\n",
              "      <td>22154</td>\n",
              "      <td>999.0</td>\n",
              "      <td>1.0</td>\n",
              "      <td>Moscow TK \"Budenovsky\" (pav.K7)</td>\n",
              "      <td>Moscow</td>\n",
              "      <td>11</td>\n",
              "      <td>Scene 2012 (BD)</td>\n",
              "      <td>37</td>\n",
              "      <td>Movies - Blu-Ray</td>\n",
              "      <td>Movies</td>\n",
              "      <td>11</td>\n",
              "      <td>2</td>\n",
              "      <td>weekday</td>\n",
              "    </tr>\n",
              "    <tr>\n",
              "      <th>10</th>\n",
              "      <td>2013-01-04</td>\n",
              "      <td>3</td>\n",
              "      <td>23</td>\n",
              "      <td>22154</td>\n",
              "      <td>999.0</td>\n",
              "      <td>1.0</td>\n",
              "      <td>Moscow TK \"Budenovsky\" (pav.A2)</td>\n",
              "      <td>Moscow</td>\n",
              "      <td>11</td>\n",
              "      <td>Scene 2012 (BD)</td>\n",
              "      <td>37</td>\n",
              "      <td>Movies - Blu-Ray</td>\n",
              "      <td>Movies</td>\n",
              "      <td>11</td>\n",
              "      <td>4</td>\n",
              "      <td>weekday</td>\n",
              "    </tr>\n",
              "  </tbody>\n",
              "</table>\n",
              "</div>"
            ],
            "text/plain": [
              "         date  date_block_num  shop_id  ...  group_id  day_of_week  weekday_weekend\n",
              "0  2013-02-01               0       59  ...        11            4          weekday\n",
              "1  2013-02-01               0       25  ...        11            4          weekday\n",
              "2  2013-03-01               0       25  ...        11            4          weekday\n",
              "3  2013-01-20               0       25  ...        11            6          weekend\n",
              "4  2013-01-23               0       25  ...        11            2          weekday\n",
              "5  2013-01-26               0       25  ...        11            5          weekend\n",
              "6  2015-08-27              31       25  ...        11            3          weekday\n",
              "7  2015-02-09              32       25  ...        11            0          weekday\n",
              "8  2013-01-23               0       24  ...        11            2          weekday\n",
              "10 2013-01-04               3       23  ...        11            4          weekday\n",
              "\n",
              "[10 rows x 16 columns]"
            ]
          },
          "metadata": {
            "tags": []
          },
          "execution_count": 34
        }
      ]
    },
    {
      "cell_type": "code",
      "metadata": {
        "id": "m_25cnwj5sNA"
      },
      "source": [
        "trainData['revenue'] = trainData['item_cnt_day']*trainData['item_price']\n"
      ],
      "execution_count": null,
      "outputs": []
    },
    {
      "cell_type": "code",
      "metadata": {
        "colab": {
          "base_uri": "https://localhost:8080/",
          "height": 370
        },
        "id": "HLY2wSAaR8cn",
        "outputId": "cb2d2f50-57d7-4552-a86c-9eda5cc9cc04"
      },
      "source": [
        "trainData.groupby('date_block_num')['revenue'].sum().plot.bar(figsize=(10, 5))\n",
        "plt.title (\"Monthly Breakdown of Total Sales Value\")\n",
        "plt.ylabel(\"Sales in Russian Rubles\")\n"
      ],
      "execution_count": null,
      "outputs": [
        {
          "output_type": "execute_result",
          "data": {
            "text/plain": [
              "Text(0, 0.5, 'Sales in Russian Rubles')"
            ]
          },
          "metadata": {
            "tags": []
          },
          "execution_count": 36
        },
        {
          "output_type": "display_data",
          "data": {
            "image/png": "[encoded data removed]",
            "text/plain": [
              "<Figure size 720x360 with 1 Axes>"
            ]
          },
          "metadata": {
            "tags": [],
            "needs_background": "light"
          }
        }
      ]
    },
    {
      "cell_type": "code",
      "metadata": {
        "colab": {
          "base_uri": "https://localhost:8080/",
          "height": 444
        },
        "id": "u-HBpAOcV6ZV",
        "outputId": "270f40ed-845d-4c79-d1c6-729383996c03"
      },
      "source": [
        "trainData.groupby('group')['item_cnt_day'].sum().plot.bar(figsize=(10, 5))\n",
        "plt.title (\"Total Sales by Category\")\n",
        "plt.ylabel(\"Number of Items\")\n"
      ],
      "execution_count": null,
      "outputs": [
        {
          "output_type": "execute_result",
          "data": {
            "text/plain": [
              "Text(0, 0.5, 'Number of Items')"
            ]
          },
          "metadata": {
            "tags": []
          },
          "execution_count": 37
        },
        {
          "output_type": "display_data",
          "data": {
            "image/png": "[encoded data removed]",
            "text/plain": [
              "<Figure size 720x360 with 1 Axes>"
            ]
          },
          "metadata": {
            "tags": [],
            "needs_background": "light"
          }
        }
      ]
    },
    {
      "cell_type": "code",
      "metadata": {
        "id": "mHBxoBjZTJpK"
      },
      "source": [
        "salesGrid = []\n",
        "cols = ['date_block_num','shop_id','item_id']\n",
        "for i in range(33):\n",
        "    sales = trainData[trainData['date_block_num'] == i]\n",
        "    salesGrid.append(np.array(list(product([i], sales['shop_id'].unique(), sales['item_id'].unique())), dtype='int16'))\n",
        "\n",
        "salesGrid = pd.DataFrame(np.vstack(salesGrid), columns = cols,dtype=np.int32)"
      ],
      "execution_count": null,
      "outputs": []
    },
    {
      "cell_type": "code",
      "metadata": {
        "id": "EgJ78zfCgokh"
      },
      "source": [
        "aggregate = trainData.groupby(cols, as_index = False).agg({ 'item_cnt_day':'sum'})\n",
        "aggregate.rename(columns = {'item_cnt_day':'item_cnt_month'},inplace = True)\n",
        "salesDF = pd.merge(salesGrid,aggregate,how='left',on=cols).fillna(0)"
      ],
      "execution_count": null,
      "outputs": []
    },
    {
      "cell_type": "code",
      "metadata": {
        "id": "sMtPPDdSjePK"
      },
      "source": [
        "aggregate = trainData.groupby('item_id',as_index = False).agg({ 'item_price':'mean'})\n",
        "aggregate.rename(columns ={'item_price':'avg_item_price'}, inplace = True)\n",
        "salesDF = pd.merge(salesDF, aggregate,how='left', on='item_id').fillna(0)"
      ],
      "execution_count": null,
      "outputs": []
    },
    {
      "cell_type": "code",
      "metadata": {
        "id": "5bE0clucj1Z8"
      },
      "source": [
        "salesDF['item_cnt_month'] = np.clip(salesDF['item_cnt_month'], 0, 20)\n",
        "salesDF.sort_values(cols, inplace=True)"
      ],
      "execution_count": null,
      "outputs": []
    },
    {
      "cell_type": "code",
      "metadata": {
        "colab": {
          "base_uri": "https://localhost:8080/",
          "height": 359
        },
        "id": "ZLuhuf8lkAko",
        "outputId": "7c732622-7c48-4aa5-b852-8454511d636a"
      },
      "source": [
        "salesDF.head(10)"
      ],
      "execution_count": null,
      "outputs": [
        {
          "output_type": "execute_result",
          "data": {
            "text/html": [
              "<div>\n",
              "<style scoped>\n",
              "    .dataframe tbody tr th:only-of-type {\n",
              "        vertical-align: middle;\n",
              "    }\n",
              "\n",
              "    .dataframe tbody tr th {\n",
              "        vertical-align: top;\n",
              "    }\n",
              "\n",
              "    .dataframe thead th {\n",
              "        text-align: right;\n",
              "    }\n",
              "</style>\n",
              "<table border=\"1\" class=\"dataframe\">\n",
              "  <thead>\n",
              "    <tr style=\"text-align: right;\">\n",
              "      <th></th>\n",
              "      <th>date_block_num</th>\n",
              "      <th>shop_id</th>\n",
              "      <th>item_id</th>\n",
              "      <th>item_cnt_month</th>\n",
              "      <th>avg_item_price</th>\n",
              "    </tr>\n",
              "  </thead>\n",
              "  <tbody>\n",
              "    <tr>\n",
              "      <th>190029</th>\n",
              "      <td>0</td>\n",
              "      <td>0</td>\n",
              "      <td>19</td>\n",
              "      <td>0.0</td>\n",
              "      <td>28.000000</td>\n",
              "    </tr>\n",
              "    <tr>\n",
              "      <th>191223</th>\n",
              "      <td>0</td>\n",
              "      <td>0</td>\n",
              "      <td>27</td>\n",
              "      <td>0.0</td>\n",
              "      <td>1461.228571</td>\n",
              "    </tr>\n",
              "    <tr>\n",
              "      <th>189215</th>\n",
              "      <td>0</td>\n",
              "      <td>0</td>\n",
              "      <td>28</td>\n",
              "      <td>0.0</td>\n",
              "      <td>310.010465</td>\n",
              "    </tr>\n",
              "    <tr>\n",
              "      <th>194045</th>\n",
              "      <td>0</td>\n",
              "      <td>0</td>\n",
              "      <td>29</td>\n",
              "      <td>0.0</td>\n",
              "      <td>1759.285714</td>\n",
              "    </tr>\n",
              "    <tr>\n",
              "      <th>187702</th>\n",
              "      <td>0</td>\n",
              "      <td>0</td>\n",
              "      <td>32</td>\n",
              "      <td>6.0</td>\n",
              "      <td>250.818200</td>\n",
              "    </tr>\n",
              "    <tr>\n",
              "      <th>188933</th>\n",
              "      <td>0</td>\n",
              "      <td>0</td>\n",
              "      <td>33</td>\n",
              "      <td>3.0</td>\n",
              "      <td>253.939189</td>\n",
              "    </tr>\n",
              "    <tr>\n",
              "      <th>188167</th>\n",
              "      <td>0</td>\n",
              "      <td>0</td>\n",
              "      <td>34</td>\n",
              "      <td>0.0</td>\n",
              "      <td>144.213115</td>\n",
              "    </tr>\n",
              "    <tr>\n",
              "      <th>187701</th>\n",
              "      <td>0</td>\n",
              "      <td>0</td>\n",
              "      <td>35</td>\n",
              "      <td>1.0</td>\n",
              "      <td>375.828056</td>\n",
              "    </tr>\n",
              "    <tr>\n",
              "      <th>191224</th>\n",
              "      <td>0</td>\n",
              "      <td>0</td>\n",
              "      <td>40</td>\n",
              "      <td>0.0</td>\n",
              "      <td>245.096774</td>\n",
              "    </tr>\n",
              "    <tr>\n",
              "      <th>192005</th>\n",
              "      <td>0</td>\n",
              "      <td>0</td>\n",
              "      <td>41</td>\n",
              "      <td>0.0</td>\n",
              "      <td>237.790698</td>\n",
              "    </tr>\n",
              "  </tbody>\n",
              "</table>\n",
              "</div>"
            ],
            "text/plain": [
              "        date_block_num  shop_id  item_id  item_cnt_month  avg_item_price\n",
              "190029               0        0       19             0.0       28.000000\n",
              "191223               0        0       27             0.0     1461.228571\n",
              "189215               0        0       28             0.0      310.010465\n",
              "194045               0        0       29             0.0     1759.285714\n",
              "187702               0        0       32             6.0      250.818200\n",
              "188933               0        0       33             3.0      253.939189\n",
              "188167               0        0       34             0.0      144.213115\n",
              "187701               0        0       35             1.0      375.828056\n",
              "191224               0        0       40             0.0      245.096774\n",
              "192005               0        0       41             0.0      237.790698"
            ]
          },
          "metadata": {
            "tags": []
          },
          "execution_count": 42
        }
      ]
    },
    {
      "cell_type": "code",
      "metadata": {
        "id": "_yyo2zsukw71"
      },
      "source": [
        "testDF = pd.DataFrame(testData, columns = cols)"
      ],
      "execution_count": null,
      "outputs": []
    },
    {
      "cell_type": "code",
      "metadata": {
        "id": "98zUn0gFnHmI"
      },
      "source": [
        "salesDF = pd.concat([salesDF,testDF], ignore_index=True)"
      ],
      "execution_count": null,
      "outputs": []
    },
    {
      "cell_type": "code",
      "metadata": {
        "id": "UWxN1eKBn2sm"
      },
      "source": [
        "salesDF.fillna(0, inplace = True)"
      ],
      "execution_count": null,
      "outputs": []
    },
    {
      "cell_type": "code",
      "metadata": {
        "id": "zJVFpIlToDja"
      },
      "source": [
        "#salesDF = pd.merge(salesDF, shops, on=['shop_id'], how='left')\n",
        "#salesDF = pd.merge(salesDF, items, on=['item_id'], how='left')\n",
        "#salesDF = pd.merge(salesDF, categories, on=['item_category_id'], how='left')"
      ],
      "execution_count": null,
      "outputs": []
    },
    {
      "cell_type": "code",
      "metadata": {
        "colab": {
          "base_uri": "https://localhost:8080/",
          "height": 130
        },
        "id": "VWpw9W26ofhM",
        "outputId": "79764a45-72b8-4a68-c89c-545b4b6b76ae"
      },
      "source": [
        "#def lag_feature(df, lags, col):\n",
        "#    tmp = df[['date_block_num','shop_id','item_id',col]]\n",
        "#   for i in lags:\n",
        "#       shifted = tmp.copy()\n",
        "#        shifted.columns = ['date_block_num','shop_id','item_id', col+'_lag_'+str(i)]\n",
        "#        shifted['date_block_num'] += i\n",
        "#        df = pd.merge(df, shifted, on=['date_block_num','shop_id','item_id'], how='left')\n",
        "#    return df"
      ],
      "execution_count": null,
      "outputs": [
        {
          "output_type": "error",
          "ename": "IndentationError",
          "evalue": "ignored",
          "traceback": [
            "\u001b[0;36m  File \u001b[0;32m\"<ipython-input-47-bde708d906e2>\"\u001b[0;36m, line \u001b[0;32m8\u001b[0m\n\u001b[0;31m    return df\u001b[0m\n\u001b[0m    ^\u001b[0m\n\u001b[0;31mIndentationError\u001b[0m\u001b[0;31m:\u001b[0m unexpected indent\n"
          ]
        }
      ]
    },
    {
      "cell_type": "code",
      "metadata": {
        "id": "1I3JN4ySowdK"
      },
      "source": [
        "# = lag_feature(salesDF, [1,2,3,6,12], 'item_cnt_month')"
      ],
      "execution_count": null,
      "outputs": []
    },
    {
      "cell_type": "code",
      "metadata": {
        "colab": {
          "base_uri": "https://localhost:8080/",
          "height": 419
        },
        "id": "5mLKW7zjpt8d",
        "outputId": "23a6b791-9ca9-41ff-9b2e-b8d4eaba50e8"
      },
      "source": [
        "salesDF"
      ],
      "execution_count": null,
      "outputs": [
        {
          "output_type": "execute_result",
          "data": {
            "text/html": [
              "<div>\n",
              "<style scoped>\n",
              "    .dataframe tbody tr th:only-of-type {\n",
              "        vertical-align: middle;\n",
              "    }\n",
              "\n",
              "    .dataframe tbody tr th {\n",
              "        vertical-align: top;\n",
              "    }\n",
              "\n",
              "    .dataframe thead th {\n",
              "        text-align: right;\n",
              "    }\n",
              "</style>\n",
              "<table border=\"1\" class=\"dataframe\">\n",
              "  <thead>\n",
              "    <tr style=\"text-align: right;\">\n",
              "      <th></th>\n",
              "      <th>date_block_num</th>\n",
              "      <th>shop_id</th>\n",
              "      <th>item_id</th>\n",
              "      <th>item_cnt_month</th>\n",
              "      <th>avg_item_price</th>\n",
              "    </tr>\n",
              "  </thead>\n",
              "  <tbody>\n",
              "    <tr>\n",
              "      <th>0</th>\n",
              "      <td>0</td>\n",
              "      <td>0</td>\n",
              "      <td>19</td>\n",
              "      <td>0.0</td>\n",
              "      <td>28.000000</td>\n",
              "    </tr>\n",
              "    <tr>\n",
              "      <th>1</th>\n",
              "      <td>0</td>\n",
              "      <td>0</td>\n",
              "      <td>27</td>\n",
              "      <td>0.0</td>\n",
              "      <td>1461.228571</td>\n",
              "    </tr>\n",
              "    <tr>\n",
              "      <th>2</th>\n",
              "      <td>0</td>\n",
              "      <td>0</td>\n",
              "      <td>28</td>\n",
              "      <td>0.0</td>\n",
              "      <td>310.010465</td>\n",
              "    </tr>\n",
              "    <tr>\n",
              "      <th>3</th>\n",
              "      <td>0</td>\n",
              "      <td>0</td>\n",
              "      <td>29</td>\n",
              "      <td>0.0</td>\n",
              "      <td>1759.285714</td>\n",
              "    </tr>\n",
              "    <tr>\n",
              "      <th>4</th>\n",
              "      <td>0</td>\n",
              "      <td>0</td>\n",
              "      <td>32</td>\n",
              "      <td>6.0</td>\n",
              "      <td>250.818200</td>\n",
              "    </tr>\n",
              "    <tr>\n",
              "      <th>...</th>\n",
              "      <td>...</td>\n",
              "      <td>...</td>\n",
              "      <td>...</td>\n",
              "      <td>...</td>\n",
              "      <td>...</td>\n",
              "    </tr>\n",
              "    <tr>\n",
              "      <th>10729187</th>\n",
              "      <td>33</td>\n",
              "      <td>20</td>\n",
              "      <td>21047</td>\n",
              "      <td>0.0</td>\n",
              "      <td>0.000000</td>\n",
              "    </tr>\n",
              "    <tr>\n",
              "      <th>10729188</th>\n",
              "      <td>33</td>\n",
              "      <td>20</td>\n",
              "      <td>21012</td>\n",
              "      <td>0.0</td>\n",
              "      <td>0.000000</td>\n",
              "    </tr>\n",
              "    <tr>\n",
              "      <th>10729189</th>\n",
              "      <td>33</td>\n",
              "      <td>20</td>\n",
              "      <td>20451</td>\n",
              "      <td>0.0</td>\n",
              "      <td>0.000000</td>\n",
              "    </tr>\n",
              "    <tr>\n",
              "      <th>10729190</th>\n",
              "      <td>33</td>\n",
              "      <td>20</td>\n",
              "      <td>20453</td>\n",
              "      <td>0.0</td>\n",
              "      <td>0.000000</td>\n",
              "    </tr>\n",
              "    <tr>\n",
              "      <th>10729191</th>\n",
              "      <td>33</td>\n",
              "      <td>20</td>\n",
              "      <td>19965</td>\n",
              "      <td>0.0</td>\n",
              "      <td>0.000000</td>\n",
              "    </tr>\n",
              "  </tbody>\n",
              "</table>\n",
              "<p>10729192 rows × 5 columns</p>\n",
              "</div>"
            ],
            "text/plain": [
              "          date_block_num  shop_id  item_id  item_cnt_month  avg_item_price\n",
              "0                      0        0       19             0.0       28.000000\n",
              "1                      0        0       27             0.0     1461.228571\n",
              "2                      0        0       28             0.0      310.010465\n",
              "3                      0        0       29             0.0     1759.285714\n",
              "4                      0        0       32             6.0      250.818200\n",
              "...                  ...      ...      ...             ...             ...\n",
              "10729187              33       20    21047             0.0        0.000000\n",
              "10729188              33       20    21012             0.0        0.000000\n",
              "10729189              33       20    20451             0.0        0.000000\n",
              "10729190              33       20    20453             0.0        0.000000\n",
              "10729191              33       20    19965             0.0        0.000000\n",
              "\n",
              "[10729192 rows x 5 columns]"
            ]
          },
          "metadata": {
            "tags": []
          },
          "execution_count": 48
        }
      ]
    },
    {
      "cell_type": "markdown",
      "metadata": {
        "id": "MN70BRNspiNW"
      },
      "source": [
        "#DATA MODELLING \n",
        "In this block we will:\n",
        "* split our data into 3 groups - train on Jan '13 to Aug '15, validate against Sep '15, and then test on Oct '15\n",
        "* use our XGBoost model to find the best iteration with lowest root mean squared error"
      ]
    },
    {
      "cell_type": "code",
      "metadata": {
        "id": "jEYk-G-npFRR"
      },
      "source": [
        "X_train = salesDF[salesDF['date_block_num'] < 32].drop('item_cnt_month',axis = 1)\n",
        "y_train = salesDF[salesDF['date_block_num'] < 32].item_cnt_month\n",
        "\n",
        "X_val = salesDF[salesDF['date_block_num'] == 32].drop('item_cnt_month',axis = 1)\n",
        "y_val = salesDF[salesDF['date_block_num'] == 32].item_cnt_month\n",
        "\n",
        "\n",
        "X_test  = salesDF[salesDF['date_block_num'] == 33].drop('item_cnt_month',axis = 1)"
      ],
      "execution_count": null,
      "outputs": []
    },
    {
      "cell_type": "code",
      "metadata": {
        "id": "2G6kji15pW8M"
      },
      "source": [
        "import time\n",
        "from sklearn.neighbors import KNeighborsRegressor\n",
        "from sklearn.linear_model import LinearRegression\n",
        "from sklearn.metrics import mean_squared_error\n",
        "import sklearn.model_selection as skt\n",
        "from xgboost import XGBRegressor\n",
        "from sklearn.preprocessing import LabelEncoder\n",
        "from xgboost import plot_importance\n",
        "from xgboost import plot_tree\n",
        "import matplotlib.pyplot as plt\n",
        "import matplotlib.pyplot as plt\n",
        "from xgboost import plot_importance\n",
        "import matplotlib.pyplot as plt\n",
        "from sklearn.linear_model import ElasticNet"
      ],
      "execution_count": null,
      "outputs": []
    },
    {
      "cell_type": "code",
      "metadata": {
        "colab": {
          "base_uri": "https://localhost:8080/"
        },
        "id": "nbQrLee8pZrt",
        "outputId": "1d1845e8-413b-401d-b2b0-3de92cc0f92a"
      },
      "source": [
        "ts = time.time()\n",
        "\n",
        "xgb = XGBRegressor(\n",
        "    max_depth=8,\n",
        "    n_estimators=1000,\n",
        "    min_child_weight=300, \n",
        "    subsample=0.8,\n",
        "    colsample_bytree=0.8,\n",
        "    eta = 0.3,\n",
        "    seed=42)\n",
        "xgb.fit(\n",
        "    X_train, \n",
        "    y_train, \n",
        "    eval_metric=\"rmse\", \n",
        "    eval_set=[(X_train, y_train), (X_val, y_val)], \n",
        "    verbose=True, \n",
        "    early_stopping_rounds = 10)\n",
        "\n",
        "time.time() - ts"
      ],
      "execution_count": null,
      "outputs": [
        {
          "output_type": "stream",
          "text": [
            "[06:41:09] WARNING: /workspace/src/objective/regression_obj.cu:152: reg:linear is now deprecated in favor of reg:squarederror.\n",
            "[06:41:09] WARNING: /workspace/src/learner.cc:686: Tree method is automatically selected to be 'approx' for faster speed. To use old behavior (exact greedy algorithm on single machine), set tree_method to 'exact'.\n",
            "[0]\tvalidation_0-rmse:1.23266\tvalidation_1-rmse:1.16776\n",
            "Multiple eval metrics have been passed: 'validation_1-rmse' will be used for early stopping.\n",
            "\n",
            "Will train until validation_1-rmse hasn't improved in 10 rounds.\n",
            "[1]\tvalidation_0-rmse:1.22373\tvalidation_1-rmse:1.15854\n",
            "[2]\tvalidation_0-rmse:1.21684\tvalidation_1-rmse:1.15066\n",
            "[3]\tvalidation_0-rmse:1.21175\tvalidation_1-rmse:1.14578\n",
            "[4]\tvalidation_0-rmse:1.20755\tvalidation_1-rmse:1.14198\n",
            "[5]\tvalidation_0-rmse:1.20243\tvalidation_1-rmse:1.13655\n",
            "[6]\tvalidation_0-rmse:1.19813\tvalidation_1-rmse:1.13201\n",
            "[7]\tvalidation_0-rmse:1.19556\tvalidation_1-rmse:1.12967\n",
            "[8]\tvalidation_0-rmse:1.19348\tvalidation_1-rmse:1.12789\n",
            "[9]\tvalidation_0-rmse:1.19179\tvalidation_1-rmse:1.12632\n",
            "[10]\tvalidation_0-rmse:1.1899\tvalidation_1-rmse:1.12496\n",
            "[11]\tvalidation_0-rmse:1.18631\tvalidation_1-rmse:1.12147\n",
            "[12]\tvalidation_0-rmse:1.18356\tvalidation_1-rmse:1.11833\n",
            "[13]\tvalidation_0-rmse:1.18255\tvalidation_1-rmse:1.1174\n",
            "[14]\tvalidation_0-rmse:1.18141\tvalidation_1-rmse:1.11663\n",
            "[15]\tvalidation_0-rmse:1.17917\tvalidation_1-rmse:1.11433\n",
            "[16]\tvalidation_0-rmse:1.17845\tvalidation_1-rmse:1.11383\n",
            "[17]\tvalidation_0-rmse:1.1758\tvalidation_1-rmse:1.1116\n",
            "[18]\tvalidation_0-rmse:1.17512\tvalidation_1-rmse:1.11118\n",
            "[19]\tvalidation_0-rmse:1.17446\tvalidation_1-rmse:1.1106\n",
            "[20]\tvalidation_0-rmse:1.17229\tvalidation_1-rmse:1.10892\n",
            "[21]\tvalidation_0-rmse:1.17032\tvalidation_1-rmse:1.1074\n",
            "[22]\tvalidation_0-rmse:1.16858\tvalidation_1-rmse:1.10602\n",
            "[23]\tvalidation_0-rmse:1.16742\tvalidation_1-rmse:1.10559\n",
            "[24]\tvalidation_0-rmse:1.16693\tvalidation_1-rmse:1.10535\n",
            "[25]\tvalidation_0-rmse:1.1665\tvalidation_1-rmse:1.10512\n",
            "[26]\tvalidation_0-rmse:1.16526\tvalidation_1-rmse:1.10424\n",
            "[27]\tvalidation_0-rmse:1.16484\tvalidation_1-rmse:1.10396\n",
            "[28]\tvalidation_0-rmse:1.16326\tvalidation_1-rmse:1.10335\n",
            "[29]\tvalidation_0-rmse:1.16294\tvalidation_1-rmse:1.10317\n",
            "[30]\tvalidation_0-rmse:1.16212\tvalidation_1-rmse:1.10272\n",
            "[31]\tvalidation_0-rmse:1.16177\tvalidation_1-rmse:1.1025\n",
            "[32]\tvalidation_0-rmse:1.16151\tvalidation_1-rmse:1.10238\n",
            "[33]\tvalidation_0-rmse:1.15993\tvalidation_1-rmse:1.10094\n",
            "[34]\tvalidation_0-rmse:1.15893\tvalidation_1-rmse:1.09973\n",
            "[35]\tvalidation_0-rmse:1.15831\tvalidation_1-rmse:1.09924\n",
            "[36]\tvalidation_0-rmse:1.15746\tvalidation_1-rmse:1.09893\n",
            "[37]\tvalidation_0-rmse:1.15567\tvalidation_1-rmse:1.09784\n",
            "[38]\tvalidation_0-rmse:1.15539\tvalidation_1-rmse:1.09776\n",
            "[39]\tvalidation_0-rmse:1.15516\tvalidation_1-rmse:1.09768\n",
            "[40]\tvalidation_0-rmse:1.15449\tvalidation_1-rmse:1.09724\n",
            "[41]\tvalidation_0-rmse:1.15421\tvalidation_1-rmse:1.09712\n",
            "[42]\tvalidation_0-rmse:1.15396\tvalidation_1-rmse:1.09701\n",
            "[43]\tvalidation_0-rmse:1.15376\tvalidation_1-rmse:1.09697\n",
            "[44]\tvalidation_0-rmse:1.15359\tvalidation_1-rmse:1.0969\n",
            "[45]\tvalidation_0-rmse:1.15335\tvalidation_1-rmse:1.09677\n",
            "[46]\tvalidation_0-rmse:1.15318\tvalidation_1-rmse:1.09675\n",
            "[47]\tvalidation_0-rmse:1.15248\tvalidation_1-rmse:1.09642\n",
            "[48]\tvalidation_0-rmse:1.15233\tvalidation_1-rmse:1.09636\n",
            "[49]\tvalidation_0-rmse:1.15217\tvalidation_1-rmse:1.09626\n",
            "[50]\tvalidation_0-rmse:1.152\tvalidation_1-rmse:1.09621\n",
            "[51]\tvalidation_0-rmse:1.15178\tvalidation_1-rmse:1.09601\n",
            "[52]\tvalidation_0-rmse:1.15164\tvalidation_1-rmse:1.09593\n",
            "[53]\tvalidation_0-rmse:1.15153\tvalidation_1-rmse:1.09587\n",
            "[54]\tvalidation_0-rmse:1.15089\tvalidation_1-rmse:1.09538\n",
            "[55]\tvalidation_0-rmse:1.15073\tvalidation_1-rmse:1.09525\n",
            "[56]\tvalidation_0-rmse:1.15064\tvalidation_1-rmse:1.09519\n",
            "[57]\tvalidation_0-rmse:1.15057\tvalidation_1-rmse:1.09516\n",
            "[58]\tvalidation_0-rmse:1.15009\tvalidation_1-rmse:1.09491\n",
            "[59]\tvalidation_0-rmse:1.14995\tvalidation_1-rmse:1.09489\n",
            "[60]\tvalidation_0-rmse:1.1493\tvalidation_1-rmse:1.09493\n",
            "[61]\tvalidation_0-rmse:1.14922\tvalidation_1-rmse:1.09488\n",
            "[62]\tvalidation_0-rmse:1.14914\tvalidation_1-rmse:1.09488\n",
            "[63]\tvalidation_0-rmse:1.14903\tvalidation_1-rmse:1.09481\n",
            "[64]\tvalidation_0-rmse:1.14815\tvalidation_1-rmse:1.09448\n",
            "[65]\tvalidation_0-rmse:1.14806\tvalidation_1-rmse:1.09447\n",
            "[66]\tvalidation_0-rmse:1.14681\tvalidation_1-rmse:1.0941\n",
            "[67]\tvalidation_0-rmse:1.14662\tvalidation_1-rmse:1.09407\n",
            "[68]\tvalidation_0-rmse:1.14655\tvalidation_1-rmse:1.09404\n",
            "[69]\tvalidation_0-rmse:1.14601\tvalidation_1-rmse:1.09412\n",
            "[70]\tvalidation_0-rmse:1.14551\tvalidation_1-rmse:1.09378\n",
            "[71]\tvalidation_0-rmse:1.14545\tvalidation_1-rmse:1.09371\n",
            "[72]\tvalidation_0-rmse:1.14529\tvalidation_1-rmse:1.09362\n",
            "[73]\tvalidation_0-rmse:1.14437\tvalidation_1-rmse:1.09336\n",
            "[74]\tvalidation_0-rmse:1.14418\tvalidation_1-rmse:1.09337\n",
            "[75]\tvalidation_0-rmse:1.1435\tvalidation_1-rmse:1.09332\n",
            "[76]\tvalidation_0-rmse:1.14335\tvalidation_1-rmse:1.09333\n",
            "[77]\tvalidation_0-rmse:1.1433\tvalidation_1-rmse:1.09334\n",
            "[78]\tvalidation_0-rmse:1.14314\tvalidation_1-rmse:1.09329\n",
            "[79]\tvalidation_0-rmse:1.14288\tvalidation_1-rmse:1.09318\n",
            "[80]\tvalidation_0-rmse:1.14205\tvalidation_1-rmse:1.09179\n",
            "[81]\tvalidation_0-rmse:1.14156\tvalidation_1-rmse:1.0915\n",
            "[82]\tvalidation_0-rmse:1.14089\tvalidation_1-rmse:1.0913\n",
            "[83]\tvalidation_0-rmse:1.14019\tvalidation_1-rmse:1.09071\n",
            "[84]\tvalidation_0-rmse:1.14007\tvalidation_1-rmse:1.09049\n",
            "[85]\tvalidation_0-rmse:1.14002\tvalidation_1-rmse:1.09046\n",
            "[86]\tvalidation_0-rmse:1.13986\tvalidation_1-rmse:1.0904\n",
            "[87]\tvalidation_0-rmse:1.13944\tvalidation_1-rmse:1.09032\n",
            "[88]\tvalidation_0-rmse:1.13936\tvalidation_1-rmse:1.09029\n",
            "[89]\tvalidation_0-rmse:1.13924\tvalidation_1-rmse:1.09022\n",
            "[90]\tvalidation_0-rmse:1.13913\tvalidation_1-rmse:1.09014\n",
            "[91]\tvalidation_0-rmse:1.13909\tvalidation_1-rmse:1.09012\n",
            "[92]\tvalidation_0-rmse:1.13843\tvalidation_1-rmse:1.08907\n",
            "[93]\tvalidation_0-rmse:1.1375\tvalidation_1-rmse:1.08869\n",
            "[94]\tvalidation_0-rmse:1.13686\tvalidation_1-rmse:1.08866\n",
            "[95]\tvalidation_0-rmse:1.13679\tvalidation_1-rmse:1.08853\n",
            "[96]\tvalidation_0-rmse:1.13621\tvalidation_1-rmse:1.08857\n",
            "[97]\tvalidation_0-rmse:1.13617\tvalidation_1-rmse:1.08848\n",
            "[98]\tvalidation_0-rmse:1.13601\tvalidation_1-rmse:1.08847\n",
            "[99]\tvalidation_0-rmse:1.13556\tvalidation_1-rmse:1.08853\n",
            "[100]\tvalidation_0-rmse:1.1355\tvalidation_1-rmse:1.08845\n",
            "[101]\tvalidation_0-rmse:1.13509\tvalidation_1-rmse:1.08828\n",
            "[102]\tvalidation_0-rmse:1.13504\tvalidation_1-rmse:1.08829\n",
            "[103]\tvalidation_0-rmse:1.13488\tvalidation_1-rmse:1.08812\n",
            "[104]\tvalidation_0-rmse:1.13477\tvalidation_1-rmse:1.08802\n",
            "[105]\tvalidation_0-rmse:1.13452\tvalidation_1-rmse:1.088\n",
            "[106]\tvalidation_0-rmse:1.13447\tvalidation_1-rmse:1.08796\n",
            "[107]\tvalidation_0-rmse:1.13443\tvalidation_1-rmse:1.0879\n",
            "[108]\tvalidation_0-rmse:1.13407\tvalidation_1-rmse:1.08784\n",
            "[109]\tvalidation_0-rmse:1.13383\tvalidation_1-rmse:1.08774\n",
            "[110]\tvalidation_0-rmse:1.13376\tvalidation_1-rmse:1.08768\n",
            "[111]\tvalidation_0-rmse:1.13372\tvalidation_1-rmse:1.08765\n",
            "[112]\tvalidation_0-rmse:1.13344\tvalidation_1-rmse:1.08773\n",
            "[113]\tvalidation_0-rmse:1.13336\tvalidation_1-rmse:1.0877\n",
            "[114]\tvalidation_0-rmse:1.13304\tvalidation_1-rmse:1.08787\n",
            "[115]\tvalidation_0-rmse:1.13264\tvalidation_1-rmse:1.08749\n",
            "[116]\tvalidation_0-rmse:1.13234\tvalidation_1-rmse:1.08731\n",
            "[117]\tvalidation_0-rmse:1.13228\tvalidation_1-rmse:1.08726\n",
            "[118]\tvalidation_0-rmse:1.13141\tvalidation_1-rmse:1.08646\n",
            "[119]\tvalidation_0-rmse:1.1313\tvalidation_1-rmse:1.08635\n",
            "[120]\tvalidation_0-rmse:1.13124\tvalidation_1-rmse:1.08612\n",
            "[121]\tvalidation_0-rmse:1.13119\tvalidation_1-rmse:1.08606\n",
            "[122]\tvalidation_0-rmse:1.13072\tvalidation_1-rmse:1.08624\n",
            "[123]\tvalidation_0-rmse:1.13064\tvalidation_1-rmse:1.08628\n",
            "[124]\tvalidation_0-rmse:1.13055\tvalidation_1-rmse:1.08625\n",
            "[125]\tvalidation_0-rmse:1.13038\tvalidation_1-rmse:1.08614\n",
            "[126]\tvalidation_0-rmse:1.12972\tvalidation_1-rmse:1.08621\n",
            "[127]\tvalidation_0-rmse:1.12943\tvalidation_1-rmse:1.08635\n",
            "[128]\tvalidation_0-rmse:1.12878\tvalidation_1-rmse:1.08661\n",
            "[129]\tvalidation_0-rmse:1.12873\tvalidation_1-rmse:1.08662\n",
            "[130]\tvalidation_0-rmse:1.12868\tvalidation_1-rmse:1.08658\n",
            "[131]\tvalidation_0-rmse:1.12861\tvalidation_1-rmse:1.08661\n",
            "Stopping. Best iteration:\n",
            "[121]\tvalidation_0-rmse:1.13119\tvalidation_1-rmse:1.08606\n",
            "\n"
          ],
          "name": "stdout"
        },
        {
          "output_type": "execute_result",
          "data": {
            "text/plain": [
              "1752.5112719535828"
            ]
          },
          "metadata": {
            "tags": []
          },
          "execution_count": 51
        }
      ]
    },
    {
      "cell_type": "markdown",
      "metadata": {
        "id": "5D9hEaRApn44"
      },
      "source": [
        "#DATA EVALUATION \n",
        "In this block we will:\n",
        "* review the features in the data which have the most importance\n",
        "* show the training and testing scores for the model\n",
        "* plot the results \n"
      ]
    },
    {
      "cell_type": "code",
      "metadata": {
        "colab": {
          "base_uri": "https://localhost:8080/"
        },
        "id": "rYRY3SY2wShm",
        "outputId": "75f653ce-bc98-443a-f7f2-e10e5c8e1f0c"
      },
      "source": [
        "print(xgb.feature_importances_)"
      ],
      "execution_count": null,
      "outputs": [
        {
          "output_type": "stream",
          "text": [
            "[0.14923215 0.21859834 0.35228813 0.2798814 ]\n"
          ],
          "name": "stdout"
        }
      ]
    },
    {
      "cell_type": "code",
      "metadata": {
        "colab": {
          "base_uri": "https://localhost:8080/",
          "height": 265
        },
        "id": "OlWf3UlfwUkF",
        "outputId": "5002005d-a26e-441f-d1ea-016f085a9bcc"
      },
      "source": [
        "plt.bar(range(len(xgb.feature_importances_)), xgb.feature_importances_)\n",
        "plt.show()"
      ],
      "execution_count": null,
      "outputs": [
        {
          "output_type": "display_data",
          "data": {
            "image/png": "[encoded data removed]",
            "text/plain": [
              "<Figure size 432x288 with 1 Axes>"
            ]
          },
          "metadata": {
            "tags": [],
            "needs_background": "light"
          }
        }
      ]
    },
    {
      "cell_type": "code",
      "metadata": {
        "colab": {
          "base_uri": "https://localhost:8080/"
        },
        "id": "0-G8RquLyD-V",
        "outputId": "6689f533-3125-4a3c-ec2c-deecbe80a590"
      },
      "source": [
        "features_importance = xgb.get_booster().get_fscore()\n",
        "f_results = pd.DataFrame(features_importance.items(), columns=['feature_name', 'fscore'])\n",
        "f_results.sort_values(by='fscore',ascending=False,inplace=True)\n",
        "f_results.reset_index(inplace=True)\n",
        "top_features = f_results['feature_name']\n",
        "top_features"
      ],
      "execution_count": null,
      "outputs": [
        {
          "output_type": "execute_result",
          "data": {
            "text/plain": [
              "0           shop_id\n",
              "1    avg_item_price\n",
              "2           item_id\n",
              "3    date_block_num\n",
              "Name: feature_name, dtype: object"
            ]
          },
          "metadata": {
            "tags": []
          },
          "execution_count": 60
        }
      ]
    },
    {
      "cell_type": "code",
      "metadata": {
        "colab": {
          "base_uri": "https://localhost:8080/"
        },
        "id": "uNsghrn6yIpU",
        "outputId": "f98fc878-034f-48bf-d4eb-e7f8fcf82753"
      },
      "source": [
        "testingData=salesDF[salesDF['date_block_num'] == 33].drop(['item_cnt_month'], axis=1)\n",
        "y_pred = xgb.predict(X_val)\n",
        "print(np.sqrt(mean_squared_error(y_val, y_pred)))\n",
        "y_pred = xgb.predict(testingData)"
      ],
      "execution_count": null,
      "outputs": [
        {
          "output_type": "stream",
          "text": [
            "1.0860568809613769\n"
          ],
          "name": "stdout"
        }
      ]
    },
    {
      "cell_type": "code",
      "metadata": {
        "colab": {
          "base_uri": "https://localhost:8080/"
        },
        "id": "bWmPOVOA0mfl",
        "outputId": "eb4a6eca-37db-4e92-9672-22bad73511b8"
      },
      "source": [
        "print('Train Score:', xgb.score(X_train, y_train))\n",
        "print('Test Score :', xgb.score(X_val, y_val))"
      ],
      "execution_count": null,
      "outputs": [
        {
          "output_type": "stream",
          "text": [
            "Train Score: 0.1481679838714023\n",
            "Test Score : 0.1146027673962432\n"
          ],
          "name": "stdout"
        }
      ]
    },
    {
      "cell_type": "code",
      "metadata": {
        "id": "XKDlyxdd01zS"
      },
      "source": [
        "results = xgb.evals_result()\n",
        "epochs = len(results['validation_0']['rmse'])\n",
        "x_axis = range(0, epochs)"
      ],
      "execution_count": null,
      "outputs": []
    },
    {
      "cell_type": "code",
      "metadata": {
        "colab": {
          "base_uri": "https://localhost:8080/",
          "height": 390
        },
        "id": "CdxGET0109OD",
        "outputId": "18de72b0-4280-41df-ef7f-5a479a07a496"
      },
      "source": [
        "fig, ax = plt.subplots(figsize=(12,6))\n",
        "ax.plot(x_axis, results['validation_0']['rmse'], label='Train')\n",
        "ax.plot(x_axis, results['validation_1']['rmse'], label='Test')\n",
        "ax.legend()\n",
        "plt.ylabel('rmse')\n",
        "plt.title('XGBoost')\n",
        "plt.show()"
      ],
      "execution_count": null,
      "outputs": [
        {
          "output_type": "display_data",
          "data": {
            "image/png": "[encoded data removed]",
            "text/plain": [
              "<Figure size 864x432 with 1 Axes>"
            ]
          },
          "metadata": {
            "tags": [],
            "needs_background": "light"
          }
        }
      ]
    }
  ]
}